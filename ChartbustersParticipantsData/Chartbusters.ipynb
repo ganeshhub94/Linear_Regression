{
 "cells": [
  {
   "cell_type": "code",
   "execution_count": 3,
   "metadata": {},
   "outputs": [],
   "source": [
    "import pandas as pd\n",
    "import numpy as np\n",
    "import warnings\n",
    "warnings.filterwarnings(\"ignore\")\n"
   ]
  },
  {
   "cell_type": "code",
   "execution_count": 4,
   "metadata": {},
   "outputs": [],
   "source": [
    "import matplotlib.pyplot as plt\n",
    "import seaborn as sns"
   ]
  },
  {
   "cell_type": "code",
   "execution_count": 5,
   "metadata": {},
   "outputs": [],
   "source": [
    "train=pd.read_csv(\"Data_Train.csv\")"
   ]
  },
  {
   "cell_type": "code",
   "execution_count": 6,
   "metadata": {},
   "outputs": [],
   "source": [
    "test=pd.read_csv(\"Data_Test.csv\")"
   ]
  },
  {
   "cell_type": "code",
   "execution_count": 78,
   "metadata": {},
   "outputs": [
    {
     "data": {
      "text/plain": [
       "(78458, 11)"
      ]
     },
     "execution_count": 78,
     "metadata": {},
     "output_type": "execute_result"
    }
   ],
   "source": [
    "train.shape"
   ]
  },
  {
   "cell_type": "code",
   "execution_count": 254,
   "metadata": {},
   "outputs": [
    {
     "data": {
      "text/plain": [
       "(19615, 10)"
      ]
     },
     "execution_count": 254,
     "metadata": {},
     "output_type": "execute_result"
    }
   ],
   "source": [
    "test.shape"
   ]
  },
  {
   "cell_type": "code",
   "execution_count": 7,
   "metadata": {},
   "outputs": [],
   "source": [
    "data=pd.concat([train,test])"
   ]
  },
  {
   "cell_type": "code",
   "execution_count": 8,
   "metadata": {},
   "outputs": [
    {
     "data": {
      "text/plain": [
       "(98073, 11)"
      ]
     },
     "execution_count": 8,
     "metadata": {},
     "output_type": "execute_result"
    }
   ],
   "source": [
    "data.shape"
   ]
  },
  {
   "cell_type": "code",
   "execution_count": 161,
   "metadata": {},
   "outputs": [
    {
     "data": {
      "text/html": [
       "<div>\n",
       "<style scoped>\n",
       "    .dataframe tbody tr th:only-of-type {\n",
       "        vertical-align: middle;\n",
       "    }\n",
       "\n",
       "    .dataframe tbody tr th {\n",
       "        vertical-align: top;\n",
       "    }\n",
       "\n",
       "    .dataframe thead th {\n",
       "        text-align: right;\n",
       "    }\n",
       "</style>\n",
       "<table border=\"1\" class=\"dataframe\">\n",
       "  <thead>\n",
       "    <tr style=\"text-align: right;\">\n",
       "      <th></th>\n",
       "      <th>Comments</th>\n",
       "      <th>Followers</th>\n",
       "      <th>Genre</th>\n",
       "      <th>Likes</th>\n",
       "      <th>Name</th>\n",
       "      <th>Popularity</th>\n",
       "      <th>Song_Name</th>\n",
       "      <th>Unique_ID</th>\n",
       "      <th>Views</th>\n",
       "      <th>Year</th>\n",
       "      <th>Month</th>\n",
       "    </tr>\n",
       "  </thead>\n",
       "  <tbody>\n",
       "    <tr>\n",
       "      <th>0</th>\n",
       "      <td>4</td>\n",
       "      <td>119563</td>\n",
       "      <td>danceedm</td>\n",
       "      <td>499.0</td>\n",
       "      <td>Hardstyle</td>\n",
       "      <td>97.0</td>\n",
       "      <td>N-Vitral presents BOMBSQUAD - Poison Spitter (...</td>\n",
       "      <td>413890</td>\n",
       "      <td>14017.0</td>\n",
       "      <td>2018</td>\n",
       "      <td>3</td>\n",
       "    </tr>\n",
       "    <tr>\n",
       "      <th>1</th>\n",
       "      <td>17</td>\n",
       "      <td>2141</td>\n",
       "      <td>danceedm</td>\n",
       "      <td>49.0</td>\n",
       "      <td>Dj Aladdin</td>\n",
       "      <td>17.0</td>\n",
       "      <td>Dj Aladdin - Old School Hip Hop Quick Mix</td>\n",
       "      <td>249453</td>\n",
       "      <td>1918.0</td>\n",
       "      <td>2016</td>\n",
       "      <td>6</td>\n",
       "    </tr>\n",
       "    <tr>\n",
       "      <th>2</th>\n",
       "      <td>11</td>\n",
       "      <td>22248</td>\n",
       "      <td>danceedm</td>\n",
       "      <td>312.0</td>\n",
       "      <td>Maxximize On Air</td>\n",
       "      <td>91.0</td>\n",
       "      <td>Maxximize On Air - Mixed by Blasterjaxx - Epis...</td>\n",
       "      <td>681116</td>\n",
       "      <td>9668.0</td>\n",
       "      <td>2015</td>\n",
       "      <td>5</td>\n",
       "    </tr>\n",
       "    <tr>\n",
       "      <th>3</th>\n",
       "      <td>2</td>\n",
       "      <td>393655</td>\n",
       "      <td>rbsoul</td>\n",
       "      <td>2400.0</td>\n",
       "      <td>GR6 EXPLODE</td>\n",
       "      <td>76.0</td>\n",
       "      <td>MC Yago - Tenho Compromisso (DJ R7)</td>\n",
       "      <td>387253</td>\n",
       "      <td>113036.0</td>\n",
       "      <td>2017</td>\n",
       "      <td>6</td>\n",
       "    </tr>\n",
       "    <tr>\n",
       "      <th>4</th>\n",
       "      <td>81</td>\n",
       "      <td>201030</td>\n",
       "      <td>danceedm</td>\n",
       "      <td>3031.0</td>\n",
       "      <td>Tritonal</td>\n",
       "      <td>699.0</td>\n",
       "      <td>Escape (feat. Steph Jones)</td>\n",
       "      <td>1428029</td>\n",
       "      <td>110024.0</td>\n",
       "      <td>2016</td>\n",
       "      <td>9</td>\n",
       "    </tr>\n",
       "  </tbody>\n",
       "</table>\n",
       "</div>"
      ],
      "text/plain": [
       "   Comments  Followers     Genre   Likes              Name  Popularity  \\\n",
       "0         4     119563  danceedm   499.0         Hardstyle        97.0   \n",
       "1        17       2141  danceedm    49.0        Dj Aladdin        17.0   \n",
       "2        11      22248  danceedm   312.0  Maxximize On Air        91.0   \n",
       "3         2     393655    rbsoul  2400.0       GR6 EXPLODE        76.0   \n",
       "4        81     201030  danceedm  3031.0          Tritonal       699.0   \n",
       "\n",
       "                                           Song_Name  Unique_ID     Views  \\\n",
       "0  N-Vitral presents BOMBSQUAD - Poison Spitter (...     413890   14017.0   \n",
       "1          Dj Aladdin - Old School Hip Hop Quick Mix     249453    1918.0   \n",
       "2  Maxximize On Air - Mixed by Blasterjaxx - Epis...     681116    9668.0   \n",
       "3                MC Yago - Tenho Compromisso (DJ R7)     387253  113036.0   \n",
       "4                         Escape (feat. Steph Jones)    1428029  110024.0   \n",
       "\n",
       "   Year  Month  \n",
       "0  2018      3  \n",
       "1  2016      6  \n",
       "2  2015      5  \n",
       "3  2017      6  \n",
       "4  2016      9  "
      ]
     },
     "execution_count": 161,
     "metadata": {},
     "output_type": "execute_result"
    }
   ],
   "source": [
    "data.head()"
   ]
  },
  {
   "cell_type": "code",
   "execution_count": null,
   "metadata": {},
   "outputs": [],
   "source": []
  },
  {
   "cell_type": "markdown",
   "metadata": {},
   "source": [
    "## Preprocessing"
   ]
  },
  {
   "cell_type": "code",
   "execution_count": 9,
   "metadata": {},
   "outputs": [
    {
     "data": {
      "text/plain": [
       "0"
      ]
     },
     "execution_count": 9,
     "metadata": {},
     "output_type": "execute_result"
    }
   ],
   "source": [
    "data.duplicated().sum()"
   ]
  },
  {
   "cell_type": "code",
   "execution_count": 10,
   "metadata": {},
   "outputs": [
    {
     "data": {
      "text/plain": [
       "Comments          0\n",
       "Country           0\n",
       "Followers         0\n",
       "Genre             0\n",
       "Likes             0\n",
       "Name              0\n",
       "Popularity        0\n",
       "Song_Name         1\n",
       "Timestamp         0\n",
       "Unique_ID         0\n",
       "Views         19615\n",
       "dtype: int64"
      ]
     },
     "execution_count": 10,
     "metadata": {},
     "output_type": "execute_result"
    }
   ],
   "source": [
    "data.isna().sum()"
   ]
  },
  {
   "cell_type": "code",
   "execution_count": 8,
   "metadata": {},
   "outputs": [],
   "source": [
    "data[\"Song_Name\"]=data[\"Song_Name\"].transform(lambda x:x.fillna(x.mode()[0]))"
   ]
  },
  {
   "cell_type": "code",
   "execution_count": 257,
   "metadata": {},
   "outputs": [
    {
     "name": "stdout",
     "output_type": "stream",
     "text": [
      "<class 'pandas.core.frame.DataFrame'>\n",
      "Int64Index: 98073 entries, 0 to 19614\n",
      "Data columns (total 11 columns):\n",
      "Comments      98073 non-null int64\n",
      "Country       98073 non-null object\n",
      "Followers     98073 non-null int64\n",
      "Genre         98073 non-null object\n",
      "Likes         98073 non-null object\n",
      "Name          98073 non-null object\n",
      "Popularity    98073 non-null object\n",
      "Song_Name     98073 non-null object\n",
      "Timestamp     98073 non-null object\n",
      "Unique_ID     98073 non-null int64\n",
      "Views         78458 non-null float64\n",
      "dtypes: float64(1), int64(3), object(7)\n",
      "memory usage: 9.0+ MB\n"
     ]
    }
   ],
   "source": [
    "data.info()"
   ]
  },
  {
   "cell_type": "code",
   "execution_count": 9,
   "metadata": {},
   "outputs": [
    {
     "data": {
      "text/html": [
       "<div>\n",
       "<style scoped>\n",
       "    .dataframe tbody tr th:only-of-type {\n",
       "        vertical-align: middle;\n",
       "    }\n",
       "\n",
       "    .dataframe tbody tr th {\n",
       "        vertical-align: top;\n",
       "    }\n",
       "\n",
       "    .dataframe thead th {\n",
       "        text-align: right;\n",
       "    }\n",
       "</style>\n",
       "<table border=\"1\" class=\"dataframe\">\n",
       "  <thead>\n",
       "    <tr style=\"text-align: right;\">\n",
       "      <th></th>\n",
       "      <th>Comments</th>\n",
       "      <th>Country</th>\n",
       "      <th>Followers</th>\n",
       "      <th>Genre</th>\n",
       "      <th>Likes</th>\n",
       "      <th>Name</th>\n",
       "      <th>Popularity</th>\n",
       "      <th>Song_Name</th>\n",
       "      <th>Timestamp</th>\n",
       "      <th>Unique_ID</th>\n",
       "      <th>Views</th>\n",
       "    </tr>\n",
       "  </thead>\n",
       "  <tbody>\n",
       "    <tr>\n",
       "      <th>0</th>\n",
       "      <td>4</td>\n",
       "      <td>AU</td>\n",
       "      <td>119563</td>\n",
       "      <td>danceedm</td>\n",
       "      <td>499</td>\n",
       "      <td>Hardstyle</td>\n",
       "      <td>97</td>\n",
       "      <td>N-Vitral presents BOMBSQUAD - Poison Spitter (...</td>\n",
       "      <td>2018-03-30 15:24:45.000000</td>\n",
       "      <td>413890</td>\n",
       "      <td>14017.0</td>\n",
       "    </tr>\n",
       "    <tr>\n",
       "      <th>1</th>\n",
       "      <td>17</td>\n",
       "      <td>AU</td>\n",
       "      <td>2141</td>\n",
       "      <td>danceedm</td>\n",
       "      <td>49</td>\n",
       "      <td>Dj Aladdin</td>\n",
       "      <td>17</td>\n",
       "      <td>Dj Aladdin - Old School Hip Hop Quick Mix</td>\n",
       "      <td>2016-06-20 05:58:52.000000</td>\n",
       "      <td>249453</td>\n",
       "      <td>1918.0</td>\n",
       "    </tr>\n",
       "    <tr>\n",
       "      <th>2</th>\n",
       "      <td>11</td>\n",
       "      <td>AU</td>\n",
       "      <td>22248</td>\n",
       "      <td>danceedm</td>\n",
       "      <td>312</td>\n",
       "      <td>Maxximize On Air</td>\n",
       "      <td>91</td>\n",
       "      <td>Maxximize On Air - Mixed by Blasterjaxx - Epis...</td>\n",
       "      <td>2015-05-08 17:45:59.000000</td>\n",
       "      <td>681116</td>\n",
       "      <td>9668.0</td>\n",
       "    </tr>\n",
       "    <tr>\n",
       "      <th>3</th>\n",
       "      <td>2</td>\n",
       "      <td>AU</td>\n",
       "      <td>393655</td>\n",
       "      <td>rbsoul</td>\n",
       "      <td>2,400</td>\n",
       "      <td>GR6 EXPLODE</td>\n",
       "      <td>76</td>\n",
       "      <td>MC Yago - Tenho Compromisso (DJ R7)</td>\n",
       "      <td>2017-06-08 23:50:03.000000</td>\n",
       "      <td>387253</td>\n",
       "      <td>113036.0</td>\n",
       "    </tr>\n",
       "    <tr>\n",
       "      <th>4</th>\n",
       "      <td>81</td>\n",
       "      <td>AU</td>\n",
       "      <td>201030</td>\n",
       "      <td>danceedm</td>\n",
       "      <td>3,031</td>\n",
       "      <td>Tritonal</td>\n",
       "      <td>699</td>\n",
       "      <td>Escape (feat. Steph Jones)</td>\n",
       "      <td>2016-09-17 20:50:19.000000</td>\n",
       "      <td>1428029</td>\n",
       "      <td>110024.0</td>\n",
       "    </tr>\n",
       "  </tbody>\n",
       "</table>\n",
       "</div>"
      ],
      "text/plain": [
       "   Comments Country  Followers     Genre  Likes              Name Popularity  \\\n",
       "0         4      AU     119563  danceedm    499         Hardstyle         97   \n",
       "1        17      AU       2141  danceedm     49        Dj Aladdin         17   \n",
       "2        11      AU      22248  danceedm    312  Maxximize On Air         91   \n",
       "3         2      AU     393655    rbsoul  2,400       GR6 EXPLODE         76   \n",
       "4        81      AU     201030  danceedm  3,031          Tritonal        699   \n",
       "\n",
       "                                           Song_Name  \\\n",
       "0  N-Vitral presents BOMBSQUAD - Poison Spitter (...   \n",
       "1          Dj Aladdin - Old School Hip Hop Quick Mix   \n",
       "2  Maxximize On Air - Mixed by Blasterjaxx - Epis...   \n",
       "3                MC Yago - Tenho Compromisso (DJ R7)   \n",
       "4                         Escape (feat. Steph Jones)   \n",
       "\n",
       "                    Timestamp  Unique_ID     Views  \n",
       "0  2018-03-30 15:24:45.000000     413890   14017.0  \n",
       "1  2016-06-20 05:58:52.000000     249453    1918.0  \n",
       "2  2015-05-08 17:45:59.000000     681116    9668.0  \n",
       "3  2017-06-08 23:50:03.000000     387253  113036.0  \n",
       "4  2016-09-17 20:50:19.000000    1428029  110024.0  "
      ]
     },
     "execution_count": 9,
     "metadata": {},
     "output_type": "execute_result"
    }
   ],
   "source": [
    "data.head()"
   ]
  },
  {
   "cell_type": "code",
   "execution_count": 326,
   "metadata": {
    "collapsed": true
   },
   "outputs": [
    {
     "ename": "ValueError",
     "evalue": "Cannot convert non-finite values (NA or inf) to integer",
     "output_type": "error",
     "traceback": [
      "\u001b[1;31m---------------------------------------------------------------------------\u001b[0m",
      "\u001b[1;31mValueError\u001b[0m                                Traceback (most recent call last)",
      "\u001b[1;32m<ipython-input-326-1f89da49b071>\u001b[0m in \u001b[0;36m<module>\u001b[1;34m\u001b[0m\n\u001b[1;32m----> 1\u001b[1;33m \u001b[0mdata\u001b[0m\u001b[1;33m[\u001b[0m\u001b[1;34m\"Views\"\u001b[0m\u001b[1;33m]\u001b[0m\u001b[1;33m=\u001b[0m\u001b[0mdata\u001b[0m\u001b[1;33m[\u001b[0m\u001b[1;34m\"Views\"\u001b[0m\u001b[1;33m]\u001b[0m\u001b[1;33m.\u001b[0m\u001b[0mastype\u001b[0m\u001b[1;33m(\u001b[0m\u001b[0mint\u001b[0m\u001b[1;33m)\u001b[0m\u001b[1;33m\u001b[0m\u001b[1;33m\u001b[0m\u001b[0m\n\u001b[0m",
      "\u001b[1;32m~\\Anaconda3\\lib\\site-packages\\pandas\\core\\generic.py\u001b[0m in \u001b[0;36mastype\u001b[1;34m(self, dtype, copy, errors, **kwargs)\u001b[0m\n\u001b[0;32m   5689\u001b[0m             \u001b[1;31m# else, only a single dtype is given\u001b[0m\u001b[1;33m\u001b[0m\u001b[1;33m\u001b[0m\u001b[1;33m\u001b[0m\u001b[0m\n\u001b[0;32m   5690\u001b[0m             new_data = self._data.astype(dtype=dtype, copy=copy, errors=errors,\n\u001b[1;32m-> 5691\u001b[1;33m                                          **kwargs)\n\u001b[0m\u001b[0;32m   5692\u001b[0m             \u001b[1;32mreturn\u001b[0m \u001b[0mself\u001b[0m\u001b[1;33m.\u001b[0m\u001b[0m_constructor\u001b[0m\u001b[1;33m(\u001b[0m\u001b[0mnew_data\u001b[0m\u001b[1;33m)\u001b[0m\u001b[1;33m.\u001b[0m\u001b[0m__finalize__\u001b[0m\u001b[1;33m(\u001b[0m\u001b[0mself\u001b[0m\u001b[1;33m)\u001b[0m\u001b[1;33m\u001b[0m\u001b[1;33m\u001b[0m\u001b[0m\n\u001b[0;32m   5693\u001b[0m \u001b[1;33m\u001b[0m\u001b[0m\n",
      "\u001b[1;32m~\\Anaconda3\\lib\\site-packages\\pandas\\core\\internals\\managers.py\u001b[0m in \u001b[0;36mastype\u001b[1;34m(self, dtype, **kwargs)\u001b[0m\n\u001b[0;32m    529\u001b[0m \u001b[1;33m\u001b[0m\u001b[0m\n\u001b[0;32m    530\u001b[0m     \u001b[1;32mdef\u001b[0m \u001b[0mastype\u001b[0m\u001b[1;33m(\u001b[0m\u001b[0mself\u001b[0m\u001b[1;33m,\u001b[0m \u001b[0mdtype\u001b[0m\u001b[1;33m,\u001b[0m \u001b[1;33m**\u001b[0m\u001b[0mkwargs\u001b[0m\u001b[1;33m)\u001b[0m\u001b[1;33m:\u001b[0m\u001b[1;33m\u001b[0m\u001b[1;33m\u001b[0m\u001b[0m\n\u001b[1;32m--> 531\u001b[1;33m         \u001b[1;32mreturn\u001b[0m \u001b[0mself\u001b[0m\u001b[1;33m.\u001b[0m\u001b[0mapply\u001b[0m\u001b[1;33m(\u001b[0m\u001b[1;34m'astype'\u001b[0m\u001b[1;33m,\u001b[0m \u001b[0mdtype\u001b[0m\u001b[1;33m=\u001b[0m\u001b[0mdtype\u001b[0m\u001b[1;33m,\u001b[0m \u001b[1;33m**\u001b[0m\u001b[0mkwargs\u001b[0m\u001b[1;33m)\u001b[0m\u001b[1;33m\u001b[0m\u001b[1;33m\u001b[0m\u001b[0m\n\u001b[0m\u001b[0;32m    532\u001b[0m \u001b[1;33m\u001b[0m\u001b[0m\n\u001b[0;32m    533\u001b[0m     \u001b[1;32mdef\u001b[0m \u001b[0mconvert\u001b[0m\u001b[1;33m(\u001b[0m\u001b[0mself\u001b[0m\u001b[1;33m,\u001b[0m \u001b[1;33m**\u001b[0m\u001b[0mkwargs\u001b[0m\u001b[1;33m)\u001b[0m\u001b[1;33m:\u001b[0m\u001b[1;33m\u001b[0m\u001b[1;33m\u001b[0m\u001b[0m\n",
      "\u001b[1;32m~\\Anaconda3\\lib\\site-packages\\pandas\\core\\internals\\managers.py\u001b[0m in \u001b[0;36mapply\u001b[1;34m(self, f, axes, filter, do_integrity_check, consolidate, **kwargs)\u001b[0m\n\u001b[0;32m    393\u001b[0m                                             copy=align_copy)\n\u001b[0;32m    394\u001b[0m \u001b[1;33m\u001b[0m\u001b[0m\n\u001b[1;32m--> 395\u001b[1;33m             \u001b[0mapplied\u001b[0m \u001b[1;33m=\u001b[0m \u001b[0mgetattr\u001b[0m\u001b[1;33m(\u001b[0m\u001b[0mb\u001b[0m\u001b[1;33m,\u001b[0m \u001b[0mf\u001b[0m\u001b[1;33m)\u001b[0m\u001b[1;33m(\u001b[0m\u001b[1;33m**\u001b[0m\u001b[0mkwargs\u001b[0m\u001b[1;33m)\u001b[0m\u001b[1;33m\u001b[0m\u001b[1;33m\u001b[0m\u001b[0m\n\u001b[0m\u001b[0;32m    396\u001b[0m             \u001b[0mresult_blocks\u001b[0m \u001b[1;33m=\u001b[0m \u001b[0m_extend_blocks\u001b[0m\u001b[1;33m(\u001b[0m\u001b[0mapplied\u001b[0m\u001b[1;33m,\u001b[0m \u001b[0mresult_blocks\u001b[0m\u001b[1;33m)\u001b[0m\u001b[1;33m\u001b[0m\u001b[1;33m\u001b[0m\u001b[0m\n\u001b[0;32m    397\u001b[0m \u001b[1;33m\u001b[0m\u001b[0m\n",
      "\u001b[1;32m~\\Anaconda3\\lib\\site-packages\\pandas\\core\\internals\\blocks.py\u001b[0m in \u001b[0;36mastype\u001b[1;34m(self, dtype, copy, errors, values, **kwargs)\u001b[0m\n\u001b[0;32m    532\u001b[0m     \u001b[1;32mdef\u001b[0m \u001b[0mastype\u001b[0m\u001b[1;33m(\u001b[0m\u001b[0mself\u001b[0m\u001b[1;33m,\u001b[0m \u001b[0mdtype\u001b[0m\u001b[1;33m,\u001b[0m \u001b[0mcopy\u001b[0m\u001b[1;33m=\u001b[0m\u001b[1;32mFalse\u001b[0m\u001b[1;33m,\u001b[0m \u001b[0merrors\u001b[0m\u001b[1;33m=\u001b[0m\u001b[1;34m'raise'\u001b[0m\u001b[1;33m,\u001b[0m \u001b[0mvalues\u001b[0m\u001b[1;33m=\u001b[0m\u001b[1;32mNone\u001b[0m\u001b[1;33m,\u001b[0m \u001b[1;33m**\u001b[0m\u001b[0mkwargs\u001b[0m\u001b[1;33m)\u001b[0m\u001b[1;33m:\u001b[0m\u001b[1;33m\u001b[0m\u001b[1;33m\u001b[0m\u001b[0m\n\u001b[0;32m    533\u001b[0m         return self._astype(dtype, copy=copy, errors=errors, values=values,\n\u001b[1;32m--> 534\u001b[1;33m                             **kwargs)\n\u001b[0m\u001b[0;32m    535\u001b[0m \u001b[1;33m\u001b[0m\u001b[0m\n\u001b[0;32m    536\u001b[0m     def _astype(self, dtype, copy=False, errors='raise', values=None,\n",
      "\u001b[1;32m~\\Anaconda3\\lib\\site-packages\\pandas\\core\\internals\\blocks.py\u001b[0m in \u001b[0;36m_astype\u001b[1;34m(self, dtype, copy, errors, values, **kwargs)\u001b[0m\n\u001b[0;32m    631\u001b[0m \u001b[1;33m\u001b[0m\u001b[0m\n\u001b[0;32m    632\u001b[0m                     \u001b[1;31m# _astype_nansafe works fine with 1-d only\u001b[0m\u001b[1;33m\u001b[0m\u001b[1;33m\u001b[0m\u001b[1;33m\u001b[0m\u001b[0m\n\u001b[1;32m--> 633\u001b[1;33m                     \u001b[0mvalues\u001b[0m \u001b[1;33m=\u001b[0m \u001b[0mastype_nansafe\u001b[0m\u001b[1;33m(\u001b[0m\u001b[0mvalues\u001b[0m\u001b[1;33m.\u001b[0m\u001b[0mravel\u001b[0m\u001b[1;33m(\u001b[0m\u001b[1;33m)\u001b[0m\u001b[1;33m,\u001b[0m \u001b[0mdtype\u001b[0m\u001b[1;33m,\u001b[0m \u001b[0mcopy\u001b[0m\u001b[1;33m=\u001b[0m\u001b[1;32mTrue\u001b[0m\u001b[1;33m)\u001b[0m\u001b[1;33m\u001b[0m\u001b[1;33m\u001b[0m\u001b[0m\n\u001b[0m\u001b[0;32m    634\u001b[0m \u001b[1;33m\u001b[0m\u001b[0m\n\u001b[0;32m    635\u001b[0m                 \u001b[1;31m# TODO(extension)\u001b[0m\u001b[1;33m\u001b[0m\u001b[1;33m\u001b[0m\u001b[1;33m\u001b[0m\u001b[0m\n",
      "\u001b[1;32m~\\Anaconda3\\lib\\site-packages\\pandas\\core\\dtypes\\cast.py\u001b[0m in \u001b[0;36mastype_nansafe\u001b[1;34m(arr, dtype, copy, skipna)\u001b[0m\n\u001b[0;32m    674\u001b[0m \u001b[1;33m\u001b[0m\u001b[0m\n\u001b[0;32m    675\u001b[0m         \u001b[1;32mif\u001b[0m \u001b[1;32mnot\u001b[0m \u001b[0mnp\u001b[0m\u001b[1;33m.\u001b[0m\u001b[0misfinite\u001b[0m\u001b[1;33m(\u001b[0m\u001b[0marr\u001b[0m\u001b[1;33m)\u001b[0m\u001b[1;33m.\u001b[0m\u001b[0mall\u001b[0m\u001b[1;33m(\u001b[0m\u001b[1;33m)\u001b[0m\u001b[1;33m:\u001b[0m\u001b[1;33m\u001b[0m\u001b[1;33m\u001b[0m\u001b[0m\n\u001b[1;32m--> 676\u001b[1;33m             raise ValueError('Cannot convert non-finite values (NA or inf) to '\n\u001b[0m\u001b[0;32m    677\u001b[0m                              'integer')\n\u001b[0;32m    678\u001b[0m \u001b[1;33m\u001b[0m\u001b[0m\n",
      "\u001b[1;31mValueError\u001b[0m: Cannot convert non-finite values (NA or inf) to integer"
     ]
    }
   ],
   "source": [
    "# data[\"Views\"]=data[\"Views\"].astype(int)"
   ]
  },
  {
   "cell_type": "code",
   "execution_count": null,
   "metadata": {},
   "outputs": [],
   "source": []
  },
  {
   "cell_type": "markdown",
   "metadata": {},
   "source": [
    "## Comments"
   ]
  },
  {
   "cell_type": "code",
   "execution_count": 14,
   "metadata": {},
   "outputs": [
    {
     "data": {
      "text/plain": [
       "2379"
      ]
     },
     "execution_count": 14,
     "metadata": {},
     "output_type": "execute_result"
    }
   ],
   "source": [
    "data['Comments'].nunique()"
   ]
  },
  {
   "cell_type": "code",
   "execution_count": 15,
   "metadata": {},
   "outputs": [
    {
     "data": {
      "text/plain": [
       "[<matplotlib.lines.Line2D at 0x16322d513c8>]"
      ]
     },
     "execution_count": 15,
     "metadata": {},
     "output_type": "execute_result"
    },
    {
     "data": {
      "image/png": "[encoded data removed]",
      "text/plain": [
       "<Figure size 432x288 with 1 Axes>"
      ]
     },
     "metadata": {
      "needs_background": "light"
     },
     "output_type": "display_data"
    }
   ],
   "source": [
    "plt.plot(data[\"Comments\"])"
   ]
  },
  {
   "cell_type": "markdown",
   "metadata": {},
   "source": [
    "## Country"
   ]
  },
  {
   "cell_type": "code",
   "execution_count": 16,
   "metadata": {},
   "outputs": [
    {
     "data": {
      "text/plain": [
       "AU    98073\n",
       "Name: Country, dtype: int64"
      ]
     },
     "execution_count": 16,
     "metadata": {},
     "output_type": "execute_result"
    }
   ],
   "source": [
    "data[\"Country\"].value_counts()"
   ]
  },
  {
   "cell_type": "code",
   "execution_count": 10,
   "metadata": {},
   "outputs": [],
   "source": [
    "del(data[\"Country\"])"
   ]
  },
  {
   "cell_type": "code",
   "execution_count": 260,
   "metadata": {},
   "outputs": [
    {
     "data": {
      "text/plain": [
       "Index(['Comments', 'Followers', 'Genre', 'Likes', 'Name', 'Popularity',\n",
       "       'Song_Name', 'Timestamp', 'Unique_ID', 'Views'],\n",
       "      dtype='object')"
      ]
     },
     "execution_count": 260,
     "metadata": {},
     "output_type": "execute_result"
    }
   ],
   "source": [
    "data.columns"
   ]
  },
  {
   "cell_type": "markdown",
   "metadata": {},
   "source": [
    "## Followers"
   ]
  },
  {
   "cell_type": "code",
   "execution_count": 19,
   "metadata": {},
   "outputs": [
    {
     "data": {
      "text/plain": [
       "1161"
      ]
     },
     "execution_count": 19,
     "metadata": {},
     "output_type": "execute_result"
    }
   ],
   "source": [
    "data[\"Followers\"].nunique()"
   ]
  },
  {
   "cell_type": "code",
   "execution_count": 20,
   "metadata": {},
   "outputs": [
    {
     "data": {
      "text/plain": [
       "<matplotlib.axes._subplots.AxesSubplot at 0x16322dbb400>"
      ]
     },
     "execution_count": 20,
     "metadata": {},
     "output_type": "execute_result"
    },
    {
     "data": {
      "image/png": "[encoded data removed]",
      "text/plain": [
       "<Figure size 432x288 with 1 Axes>"
      ]
     },
     "metadata": {
      "needs_background": "light"
     },
     "output_type": "display_data"
    }
   ],
   "source": [
    "data[\"Followers\"].plot(kind=\"box\")"
   ]
  },
  {
   "cell_type": "code",
   "execution_count": null,
   "metadata": {},
   "outputs": [],
   "source": []
  },
  {
   "cell_type": "code",
   "execution_count": 21,
   "metadata": {},
   "outputs": [
    {
     "data": {
      "text/plain": [
       "Index(['Comments', 'Followers', 'Genre', 'Likes', 'Name', 'Popularity',\n",
       "       'Song_Name', 'Timestamp', 'Unique_ID', 'Views'],\n",
       "      dtype='object')"
      ]
     },
     "execution_count": 21,
     "metadata": {},
     "output_type": "execute_result"
    }
   ],
   "source": [
    "data.columns"
   ]
  },
  {
   "cell_type": "code",
   "execution_count": 22,
   "metadata": {},
   "outputs": [
    {
     "name": "stdout",
     "output_type": "stream",
     "text": [
      "<class 'pandas.core.frame.DataFrame'>\n",
      "Int64Index: 98073 entries, 0 to 19614\n",
      "Data columns (total 10 columns):\n",
      "Comments      98073 non-null int64\n",
      "Followers     98073 non-null int64\n",
      "Genre         98073 non-null object\n",
      "Likes         98073 non-null object\n",
      "Name          98073 non-null object\n",
      "Popularity    98073 non-null object\n",
      "Song_Name     98073 non-null object\n",
      "Timestamp     98073 non-null object\n",
      "Unique_ID     98073 non-null int64\n",
      "Views         78458 non-null float64\n",
      "dtypes: float64(1), int64(3), object(6)\n",
      "memory usage: 8.2+ MB\n"
     ]
    }
   ],
   "source": [
    "data.info()"
   ]
  },
  {
   "cell_type": "markdown",
   "metadata": {},
   "source": [
    "## Genre"
   ]
  },
  {
   "cell_type": "code",
   "execution_count": 23,
   "metadata": {},
   "outputs": [
    {
     "data": {
      "text/plain": [
       "21"
      ]
     },
     "execution_count": 23,
     "metadata": {},
     "output_type": "execute_result"
    }
   ],
   "source": [
    "data[\"Genre\"].nunique()"
   ]
  },
  {
   "cell_type": "code",
   "execution_count": 24,
   "metadata": {},
   "outputs": [
    {
     "data": {
      "text/plain": [
       "danceedm                28319\n",
       "electronic              22981\n",
       "all-music               12839\n",
       "rbsoul                   6802\n",
       "latin                    5683\n",
       "trap                     5018\n",
       "rock                     4978\n",
       "deephouse                3017\n",
       "pop                      2254\n",
       "dubstep                  1355\n",
       "ambient                  1077\n",
       "classical                 958\n",
       "drumbass                  812\n",
       "metal                     651\n",
       "disco                     471\n",
       "country                   414\n",
       "alternativerock           186\n",
       "hiphoprap                 129\n",
       "reggaeton                  66\n",
       "folksingersongwriter       51\n",
       "indie                      12\n",
       "Name: Genre, dtype: int64"
      ]
     },
     "execution_count": 24,
     "metadata": {},
     "output_type": "execute_result"
    }
   ],
   "source": [
    "data[\"Genre\"].value_counts()"
   ]
  },
  {
   "cell_type": "code",
   "execution_count": 25,
   "metadata": {},
   "outputs": [],
   "source": [
    "genre_t10=data[\"Genre\"].value_counts().sort_values(ascending=False).head(10).index"
   ]
  },
  {
   "cell_type": "code",
   "execution_count": 26,
   "metadata": {},
   "outputs": [
    {
     "data": {
      "text/plain": [
       "Index(['danceedm', 'electronic', 'all-music', 'rbsoul', 'latin', 'trap',\n",
       "       'rock', 'deephouse', 'pop', 'dubstep'],\n",
       "      dtype='object')"
      ]
     },
     "execution_count": 26,
     "metadata": {},
     "output_type": "execute_result"
    }
   ],
   "source": [
    "genre_t10"
   ]
  },
  {
   "cell_type": "code",
   "execution_count": 27,
   "metadata": {},
   "outputs": [],
   "source": [
    "# for values,t in zip(data[\"Genre\"],genre_t10):\n",
    "#     print(values,t)\n",
    "#     if t in values:\n",
    "#         print(t)\n",
    "#     else:\n",
    "#         print(\"other\")"
   ]
  },
  {
   "cell_type": "code",
   "execution_count": 28,
   "metadata": {},
   "outputs": [],
   "source": [
    "# def Gen(datas):\n",
    "#     for values in datas:\n",
    "#         if values in genre_t10:\n",
    "#             print(values)\n",
    "#         else:\n",
    "#             print(\"other\")"
   ]
  },
  {
   "cell_type": "code",
   "execution_count": 29,
   "metadata": {},
   "outputs": [],
   "source": [
    "# data[\"Genre\"].apply(lambda x:Gen(data[\"Genre\"]))"
   ]
  },
  {
   "cell_type": "code",
   "execution_count": 30,
   "metadata": {},
   "outputs": [
    {
     "data": {
      "text/plain": [
       "danceedm                28319\n",
       "electronic              22981\n",
       "all-music               12839\n",
       "rbsoul                   6802\n",
       "latin                    5683\n",
       "trap                     5018\n",
       "rock                     4978\n",
       "deephouse                3017\n",
       "pop                      2254\n",
       "dubstep                  1355\n",
       "ambient                  1077\n",
       "classical                 958\n",
       "drumbass                  812\n",
       "metal                     651\n",
       "disco                     471\n",
       "country                   414\n",
       "alternativerock           186\n",
       "hiphoprap                 129\n",
       "reggaeton                  66\n",
       "folksingersongwriter       51\n",
       "indie                      12\n",
       "Name: Genre, dtype: int64"
      ]
     },
     "execution_count": 30,
     "metadata": {},
     "output_type": "execute_result"
    }
   ],
   "source": [
    "data[\"Genre\"].value_counts()"
   ]
  },
  {
   "cell_type": "code",
   "execution_count": 82,
   "metadata": {},
   "outputs": [
    {
     "data": {
      "text/plain": [
       "Index(['Comments', 'Country', 'Followers', 'Genre', 'Likes', 'Name',\n",
       "       'Popularity', 'Song_Name', 'Timestamp', 'Unique_ID', 'Views'],\n",
       "      dtype='object')"
      ]
     },
     "execution_count": 82,
     "metadata": {},
     "output_type": "execute_result"
    }
   ],
   "source": [
    "data.columns"
   ]
  },
  {
   "cell_type": "markdown",
   "metadata": {},
   "source": [
    "## Likes"
   ]
  },
  {
   "cell_type": "code",
   "execution_count": 261,
   "metadata": {},
   "outputs": [
    {
     "data": {
      "text/plain": [
       "0        2355\n",
       "1         801\n",
       "2         791\n",
       "3         731\n",
       "4         635\n",
       "5         552\n",
       "6         514\n",
       "8         476\n",
       "7         473\n",
       "9         404\n",
       "11        402\n",
       "10        399\n",
       "12        350\n",
       "16        332\n",
       "14        329\n",
       "13        320\n",
       "15        287\n",
       "20        275\n",
       "21        274\n",
       "17        271\n",
       "19        271\n",
       "18        264\n",
       "22        259\n",
       "23        238\n",
       "27        238\n",
       "26        221\n",
       "25        217\n",
       "24        213\n",
       "30        201\n",
       "29        196\n",
       "         ... \n",
       "8,747       1\n",
       "4,494       1\n",
       "9,108       1\n",
       "250K        1\n",
       "8,961       1\n",
       "7,871       1\n",
       "8,922       1\n",
       "5,962       1\n",
       "5,265       1\n",
       "7,863       1\n",
       "8,568       1\n",
       "7,166       1\n",
       "7,190       1\n",
       "5,487       1\n",
       "7,521       1\n",
       "8,160       1\n",
       "4,328       1\n",
       "7,287       1\n",
       "7,378       1\n",
       "7,360       1\n",
       "568K        1\n",
       "4,678       1\n",
       "6,919       1\n",
       "7,013       1\n",
       "5,262       1\n",
       "6,946       1\n",
       "1.74M       1\n",
       "8,565       1\n",
       "9,610       1\n",
       "5,432       1\n",
       "Name: Likes, Length: 9758, dtype: int64"
      ]
     },
     "execution_count": 261,
     "metadata": {},
     "output_type": "execute_result"
    }
   ],
   "source": [
    "data.Likes.value_counts()"
   ]
  },
  {
   "cell_type": "code",
   "execution_count": 262,
   "metadata": {},
   "outputs": [],
   "source": [
    "import re"
   ]
  },
  {
   "cell_type": "code",
   "execution_count": 11,
   "metadata": {},
   "outputs": [],
   "source": [
    "data[\"Likes\"]=data.Likes.transform(lambda x:x.replace(\",\",\"\"))"
   ]
  },
  {
   "cell_type": "code",
   "execution_count": 12,
   "metadata": {},
   "outputs": [],
   "source": [
    "data[\"Likes\"]=(data.Likes.replace(r'[KM]+$', '', regex=True).astype(float) * \\\n",
    "              data.Likes.str.extract(r'[\\d\\.]+([KM]+)', expand=False)\n",
    "                .fillna(1)\n",
    "                .replace(['K','M'], [10**3, 10**6]).astype(int))"
   ]
  },
  {
   "cell_type": "code",
   "execution_count": 265,
   "metadata": {},
   "outputs": [
    {
     "data": {
      "text/plain": [
       "Index(['Comments', 'Followers', 'Genre', 'Likes', 'Name', 'Popularity',\n",
       "       'Song_Name', 'Timestamp', 'Unique_ID', 'Views'],\n",
       "      dtype='object')"
      ]
     },
     "execution_count": 265,
     "metadata": {},
     "output_type": "execute_result"
    }
   ],
   "source": [
    "data.columns"
   ]
  },
  {
   "cell_type": "markdown",
   "metadata": {},
   "source": [
    "## Names"
   ]
  },
  {
   "cell_type": "code",
   "execution_count": 34,
   "metadata": {},
   "outputs": [
    {
     "data": {
      "text/plain": [
       "Mixmag                        2598\n",
       "Monstercat                    1773\n",
       "GR6 EXPLODE                   1747\n",
       "Hardstyle                     1422\n",
       "Sweet Musique                 1229\n",
       "officialb2s                   1090\n",
       "trndmsk                       1040\n",
       "Uptempo HC Channel            1003\n",
       "Resident Advisor               997\n",
       "LEGENDA FUNK                   914\n",
       "Steve Aoki                     900\n",
       "MrSuicideSheep                 866\n",
       "Dirty Workz                    852\n",
       "DHA AM (Deep House London)     808\n",
       "Kompakt                        804\n",
       "Dim Mak Records                782\n",
       "DJ R7                          772\n",
       "Beats In Space                 711\n",
       "Mad Decent                     698\n",
       "Queen                          689\n",
       "FACT                           683\n",
       "moogmusicinc                   660\n",
       "Roadrunner USA                 651\n",
       "Big Beat Records               642\n",
       "Scantraxx                      626\n",
       "Ensis Records                  611\n",
       "Morgan Page                    602\n",
       "Armin van Buuren               590\n",
       "W. A. Production®              587\n",
       "Disciple ♛ ♜ ♞                 580\n",
       "                              ... \n",
       "Marcus mj                        1\n",
       "vromance                         1\n",
       "DJ Farrukh                       1\n",
       "Cabuizee VIPs                    1\n",
       "DEFΛLT                           1\n",
       "Alisson Vitor                    1\n",
       "Slow Hours                       1\n",
       "Adriatique-Cercle                1\n",
       "Daniella Cerda                   1\n",
       "lilawge                          1\n",
       "KENNIE                           1\n",
       "عمرو                             1\n",
       "YK Osiris                        1\n",
       "ღ 슈비_[๑B T S๑]                   1\n",
       "SERPENTS                         1\n",
       "Alex Grey                        1\n",
       "Cốp Cốp                          1\n",
       "@marcusbasquiat                  1\n",
       "rizky.rilos                      1\n",
       "Jhay Cortez                      1\n",
       "Ferdy                            1\n",
       "MoneyJourney                     1\n",
       "Tora Loaadiing                   1\n",
       "Future Generation Remixes        1\n",
       "Thuy Ngoc Le                     1\n",
       "Bảo Huỳnh                        1\n",
       "Dj J.Fernandez                   1\n",
       "Nguyễn Công Danh                 1\n",
       "Kyle Murdock 1                   1\n",
       "Rocio Araujo                     1\n",
       "Name: Name, Length: 1219, dtype: int64"
      ]
     },
     "execution_count": 34,
     "metadata": {},
     "output_type": "execute_result"
    }
   ],
   "source": [
    "data['Name'].value_counts()"
   ]
  },
  {
   "cell_type": "code",
   "execution_count": 266,
   "metadata": {},
   "outputs": [],
   "source": [
    "# del(data[\"Name\"])"
   ]
  },
  {
   "cell_type": "code",
   "execution_count": 112,
   "metadata": {},
   "outputs": [
    {
     "data": {
      "text/plain": [
       "Index(['Comments', 'Country', 'Followers', 'Genre', 'Likes', 'Popularity',\n",
       "       'Song_Name', 'Timestamp', 'Unique_ID', 'Views'],\n",
       "      dtype='object')"
      ]
     },
     "execution_count": 112,
     "metadata": {},
     "output_type": "execute_result"
    }
   ],
   "source": [
    "data.columns"
   ]
  },
  {
   "cell_type": "markdown",
   "metadata": {},
   "source": [
    "## Popularity"
   ]
  },
  {
   "cell_type": "code",
   "execution_count": 37,
   "metadata": {},
   "outputs": [
    {
     "data": {
      "text/plain": [
       "6259"
      ]
     },
     "execution_count": 37,
     "metadata": {},
     "output_type": "execute_result"
    }
   ],
   "source": [
    "data[\"Popularity\"].nunique()"
   ]
  },
  {
   "cell_type": "code",
   "execution_count": 13,
   "metadata": {},
   "outputs": [],
   "source": [
    "data['Popularity']=data[\"Popularity\"].transform(lambda x:x.replace(\",\",\"\"))"
   ]
  },
  {
   "cell_type": "code",
   "execution_count": 14,
   "metadata": {},
   "outputs": [],
   "source": [
    "data[\"Popularity\"]=(data.Popularity.replace(r'[KM]+$', '', regex=True).astype(float) * \\\n",
    "              data.Popularity.str.extract(r'[\\d\\.]+([KM]+)', expand=False)\n",
    "                .fillna(1)\n",
    "                .replace(['K','M'], [10**3, 10**6]).astype(int))"
   ]
  },
  {
   "cell_type": "markdown",
   "metadata": {},
   "source": [
    "## Song Name"
   ]
  },
  {
   "cell_type": "code",
   "execution_count": 269,
   "metadata": {},
   "outputs": [
    {
     "data": {
      "text/plain": [
       "98072"
      ]
     },
     "execution_count": 269,
     "metadata": {},
     "output_type": "execute_result"
    }
   ],
   "source": [
    "data[\"Song_Name\"].nunique()"
   ]
  },
  {
   "cell_type": "code",
   "execution_count": 275,
   "metadata": {},
   "outputs": [],
   "source": [
    "del(data[\"Song_Name\"])"
   ]
  },
  {
   "cell_type": "markdown",
   "metadata": {},
   "source": [
    "## Timestamp"
   ]
  },
  {
   "cell_type": "code",
   "execution_count": 121,
   "metadata": {},
   "outputs": [
    {
     "data": {
      "text/plain": [
       "84593"
      ]
     },
     "execution_count": 121,
     "metadata": {},
     "output_type": "execute_result"
    }
   ],
   "source": [
    "data[\"Timestamp\"].nunique()"
   ]
  },
  {
   "cell_type": "code",
   "execution_count": 122,
   "metadata": {},
   "outputs": [
    {
     "data": {
      "text/plain": [
       "0        2018-03-30 15:24:45.000000\n",
       "1        2016-06-20 05:58:52.000000\n",
       "2        2015-05-08 17:45:59.000000\n",
       "3        2017-06-08 23:50:03.000000\n",
       "4        2016-09-17 20:50:19.000000\n",
       "5        2017-11-27 14:55:11.000000\n",
       "6        2016-01-22 17:23:26.000000\n",
       "7        2012-01-17 00:00:00.000000\n",
       "8        2018-11-29 22:37:07.000000\n",
       "9        2017-09-28 04:07:47.000000\n",
       "10       2014-09-29 10:29:11.000000\n",
       "11       2016-03-04 22:42:57.000000\n",
       "12       2011-07-12 21:55:03.000000\n",
       "13       2018-06-15 20:23:04.000000\n",
       "14       2016-01-03 17:02:42.000000\n",
       "15       2018-01-06 19:54:59.000000\n",
       "16       2018-04-17 17:35:41.000000\n",
       "17       2013-10-14 20:44:39.000000\n",
       "18       2011-10-27 23:28:43.000000\n",
       "19       2018-02-10 02:14:25.000000\n",
       "20       2018-10-12 09:20:09.000000\n",
       "21       2015-08-31 13:29:36.000000\n",
       "22       2016-10-10 18:54:21.000000\n",
       "23       2018-12-06 13:25:18.000000\n",
       "24       2016-10-17 23:04:49.000000\n",
       "25       2015-06-08 17:02:49.000000\n",
       "26       2018-09-25 21:46:56.000000\n",
       "27       2015-08-14 00:00:00.000000\n",
       "28       2018-11-12 06:14:33.000000\n",
       "29       2015-04-25 17:58:27.000000\n",
       "                    ...            \n",
       "19585    2016-01-25 02:02:03.000000\n",
       "19586    2018-11-20 22:54:18.000000\n",
       "19587    2018-11-02 18:56:51.000000\n",
       "19588    2016-12-06 19:18:44.000000\n",
       "19589    2014-11-03 02:14:44.000000\n",
       "19590    2016-05-03 11:09:25.000000\n",
       "19591    2016-07-25 09:40:06.000000\n",
       "19592    2016-12-18 04:15:32.000000\n",
       "19593    2012-09-20 19:11:48.000000\n",
       "19594    2017-06-03 17:44:13.000000\n",
       "19595    2011-05-09 00:00:00.000000\n",
       "19596    1991-01-01 00:00:00.000000\n",
       "19597    2015-10-14 17:00:56.000000\n",
       "19598    2016-04-29 04:21:39.000000\n",
       "19599    2017-03-14 14:46:34.000000\n",
       "19600    2017-12-28 11:12:59.000000\n",
       "19601    2017-03-29 18:22:05.000000\n",
       "19602    2015-10-28 12:50:05.000000\n",
       "19603    2015-06-08 09:32:19.000000\n",
       "19604    2015-04-25 23:46:58.000000\n",
       "19605    2016-06-16 10:28:59.000000\n",
       "19606    2019-02-22 15:53:42.000000\n",
       "19607    2017-12-12 17:10:27.000000\n",
       "19608    2018-05-18 01:30:02.000000\n",
       "19609    2012-09-17 23:07:43.000000\n",
       "19610    2017-08-29 20:39:57.000000\n",
       "19611    2016-01-22 13:51:52.000000\n",
       "19612    2017-10-27 04:51:20.000000\n",
       "19613    2017-08-30 16:35:20.000000\n",
       "19614    2015-07-30 16:27:55.000000\n",
       "Name: Timestamp, Length: 98073, dtype: object"
      ]
     },
     "execution_count": 122,
     "metadata": {},
     "output_type": "execute_result"
    }
   ],
   "source": [
    "data[\"Timestamp\"]"
   ]
  },
  {
   "cell_type": "code",
   "execution_count": 123,
   "metadata": {},
   "outputs": [
    {
     "name": "stdout",
     "output_type": "stream",
     "text": [
      "2015\n"
     ]
    }
   ],
   "source": [
    "for i in data.Timestamp:\n",
    "    ans=i.split(\"-\")[0]\n",
    "print(ans)"
   ]
  },
  {
   "cell_type": "code",
   "execution_count": 15,
   "metadata": {},
   "outputs": [],
   "source": [
    "data[\"Year\"]=data[\"Timestamp\"].transform(lambda x:x.split(\"-\")[0]).astype(int)"
   ]
  },
  {
   "cell_type": "code",
   "execution_count": 271,
   "metadata": {},
   "outputs": [
    {
     "data": {
      "text/plain": [
       "32"
      ]
     },
     "execution_count": 271,
     "metadata": {},
     "output_type": "execute_result"
    }
   ],
   "source": [
    "data[\"Year\"].nunique()"
   ]
  },
  {
   "cell_type": "code",
   "execution_count": 16,
   "metadata": {},
   "outputs": [],
   "source": [
    "data[\"Month\"]=data.Timestamp.transform(lambda x:x.split(\"-\")[1]).astype(int)"
   ]
  },
  {
   "cell_type": "code",
   "execution_count": 273,
   "metadata": {},
   "outputs": [
    {
     "data": {
      "text/plain": [
       "12"
      ]
     },
     "execution_count": 273,
     "metadata": {},
     "output_type": "execute_result"
    }
   ],
   "source": [
    "data.Month.nunique()"
   ]
  },
  {
   "cell_type": "code",
   "execution_count": 116,
   "metadata": {},
   "outputs": [
    {
     "data": {
      "text/html": [
       "<div>\n",
       "<style scoped>\n",
       "    .dataframe tbody tr th:only-of-type {\n",
       "        vertical-align: middle;\n",
       "    }\n",
       "\n",
       "    .dataframe tbody tr th {\n",
       "        vertical-align: top;\n",
       "    }\n",
       "\n",
       "    .dataframe thead th {\n",
       "        text-align: right;\n",
       "    }\n",
       "</style>\n",
       "<table border=\"1\" class=\"dataframe\">\n",
       "  <thead>\n",
       "    <tr style=\"text-align: right;\">\n",
       "      <th></th>\n",
       "      <th>Comments</th>\n",
       "      <th>Followers</th>\n",
       "      <th>Genre</th>\n",
       "      <th>Likes</th>\n",
       "      <th>Name</th>\n",
       "      <th>Popularity</th>\n",
       "      <th>Song_Name</th>\n",
       "      <th>Unique_ID</th>\n",
       "      <th>Views</th>\n",
       "      <th>Year</th>\n",
       "      <th>Month</th>\n",
       "    </tr>\n",
       "  </thead>\n",
       "  <tbody>\n",
       "    <tr>\n",
       "      <th>0</th>\n",
       "      <td>4</td>\n",
       "      <td>119563</td>\n",
       "      <td>danceedm</td>\n",
       "      <td>499.0</td>\n",
       "      <td>Hardstyle</td>\n",
       "      <td>97.0</td>\n",
       "      <td>N-Vitral presents BOMBSQUAD - Poison Spitter (...</td>\n",
       "      <td>413890</td>\n",
       "      <td>14017.0</td>\n",
       "      <td>2018</td>\n",
       "      <td>3</td>\n",
       "    </tr>\n",
       "    <tr>\n",
       "      <th>1</th>\n",
       "      <td>17</td>\n",
       "      <td>2141</td>\n",
       "      <td>danceedm</td>\n",
       "      <td>49.0</td>\n",
       "      <td>Dj Aladdin</td>\n",
       "      <td>17.0</td>\n",
       "      <td>Dj Aladdin - Old School Hip Hop Quick Mix</td>\n",
       "      <td>249453</td>\n",
       "      <td>1918.0</td>\n",
       "      <td>2016</td>\n",
       "      <td>6</td>\n",
       "    </tr>\n",
       "    <tr>\n",
       "      <th>2</th>\n",
       "      <td>11</td>\n",
       "      <td>22248</td>\n",
       "      <td>danceedm</td>\n",
       "      <td>312.0</td>\n",
       "      <td>Maxximize On Air</td>\n",
       "      <td>91.0</td>\n",
       "      <td>Maxximize On Air - Mixed by Blasterjaxx - Epis...</td>\n",
       "      <td>681116</td>\n",
       "      <td>9668.0</td>\n",
       "      <td>2015</td>\n",
       "      <td>5</td>\n",
       "    </tr>\n",
       "    <tr>\n",
       "      <th>3</th>\n",
       "      <td>2</td>\n",
       "      <td>393655</td>\n",
       "      <td>rbsoul</td>\n",
       "      <td>2400.0</td>\n",
       "      <td>GR6 EXPLODE</td>\n",
       "      <td>76.0</td>\n",
       "      <td>MC Yago - Tenho Compromisso (DJ R7)</td>\n",
       "      <td>387253</td>\n",
       "      <td>113036.0</td>\n",
       "      <td>2017</td>\n",
       "      <td>6</td>\n",
       "    </tr>\n",
       "    <tr>\n",
       "      <th>4</th>\n",
       "      <td>81</td>\n",
       "      <td>201030</td>\n",
       "      <td>danceedm</td>\n",
       "      <td>3031.0</td>\n",
       "      <td>Tritonal</td>\n",
       "      <td>699.0</td>\n",
       "      <td>Escape (feat. Steph Jones)</td>\n",
       "      <td>1428029</td>\n",
       "      <td>110024.0</td>\n",
       "      <td>2016</td>\n",
       "      <td>9</td>\n",
       "    </tr>\n",
       "  </tbody>\n",
       "</table>\n",
       "</div>"
      ],
      "text/plain": [
       "   Comments  Followers     Genre   Likes              Name  Popularity  \\\n",
       "0         4     119563  danceedm   499.0         Hardstyle        97.0   \n",
       "1        17       2141  danceedm    49.0        Dj Aladdin        17.0   \n",
       "2        11      22248  danceedm   312.0  Maxximize On Air        91.0   \n",
       "3         2     393655    rbsoul  2400.0       GR6 EXPLODE        76.0   \n",
       "4        81     201030  danceedm  3031.0          Tritonal       699.0   \n",
       "\n",
       "                                           Song_Name  Unique_ID     Views  \\\n",
       "0  N-Vitral presents BOMBSQUAD - Poison Spitter (...     413890   14017.0   \n",
       "1          Dj Aladdin - Old School Hip Hop Quick Mix     249453    1918.0   \n",
       "2  Maxximize On Air - Mixed by Blasterjaxx - Epis...     681116    9668.0   \n",
       "3                MC Yago - Tenho Compromisso (DJ R7)     387253  113036.0   \n",
       "4                         Escape (feat. Steph Jones)    1428029  110024.0   \n",
       "\n",
       "   Year  Month  \n",
       "0  2018      3  \n",
       "1  2016      6  \n",
       "2  2015      5  \n",
       "3  2017      6  \n",
       "4  2016      9  "
      ]
     },
     "execution_count": 116,
     "metadata": {},
     "output_type": "execute_result"
    }
   ],
   "source": [
    "data.head()"
   ]
  },
  {
   "cell_type": "code",
   "execution_count": 18,
   "metadata": {},
   "outputs": [],
   "source": [
    "data.drop(columns={\"Timestamp\"},inplace=True)"
   ]
  },
  {
   "cell_type": "code",
   "execution_count": 278,
   "metadata": {},
   "outputs": [
    {
     "data": {
      "text/plain": [
       "98073"
      ]
     },
     "execution_count": 278,
     "metadata": {},
     "output_type": "execute_result"
    }
   ],
   "source": [
    "data.Unique_ID.nunique()"
   ]
  },
  {
   "cell_type": "code",
   "execution_count": 131,
   "metadata": {},
   "outputs": [],
   "source": [
    "# del(data[\"Unique_ID\"])"
   ]
  },
  {
   "cell_type": "code",
   "execution_count": 279,
   "metadata": {},
   "outputs": [
    {
     "data": {
      "text/plain": [
       "(98073, 9)"
      ]
     },
     "execution_count": 279,
     "metadata": {},
     "output_type": "execute_result"
    }
   ],
   "source": [
    "data.shape"
   ]
  },
  {
   "cell_type": "code",
   "execution_count": 292,
   "metadata": {},
   "outputs": [
    {
     "name": "stdout",
     "output_type": "stream",
     "text": [
      "<class 'pandas.core.frame.DataFrame'>\n",
      "Int64Index: 98073 entries, 0 to 19614\n",
      "Data columns (total 9 columns):\n",
      "Comments      98073 non-null int64\n",
      "Followers     98073 non-null int64\n",
      "Genre         98073 non-null object\n",
      "Likes         98073 non-null float64\n",
      "Popularity    98073 non-null float64\n",
      "Unique_ID     98073 non-null int64\n",
      "Views         78458 non-null float64\n",
      "Year          98073 non-null int32\n",
      "Month         98073 non-null int32\n",
      "dtypes: float64(3), int32(2), int64(3), object(1)\n",
      "memory usage: 6.7+ MB\n"
     ]
    }
   ],
   "source": [
    "data.info()"
   ]
  },
  {
   "cell_type": "code",
   "execution_count": 19,
   "metadata": {},
   "outputs": [
    {
     "data": {
      "text/plain": [
       "<matplotlib.axes._subplots.AxesSubplot at 0x21e08e05080>"
      ]
     },
     "execution_count": 19,
     "metadata": {},
     "output_type": "execute_result"
    },
    {
     "data": {
      "image/png": "[encoded data removed]",
      "text/plain": [
       "<Figure size 432x288 with 2 Axes>"
      ]
     },
     "metadata": {
      "needs_background": "light"
     },
     "output_type": "display_data"
    }
   ],
   "source": [
    "sns.heatmap(data.corr(),annot=True)"
   ]
  },
  {
   "cell_type": "code",
   "execution_count": 20,
   "metadata": {},
   "outputs": [],
   "source": [
    "from sklearn.decomposition import PCA"
   ]
  },
  {
   "cell_type": "code",
   "execution_count": 146,
   "metadata": {},
   "outputs": [],
   "source": [
    "cat_col=data.select_dtypes(exclude=np.number).drop(columns={\"Name\",\"Song_Name\",\"Genre\"})"
   ]
  },
  {
   "cell_type": "code",
   "execution_count": 147,
   "metadata": {},
   "outputs": [],
   "source": [
    "num_col=data.select_dtypes(include=np.number).drop(columns={\"Year\",\"Month\"})"
   ]
  },
  {
   "cell_type": "code",
   "execution_count": 63,
   "metadata": {},
   "outputs": [
    {
     "data": {
      "text/html": [
       "<div>\n",
       "<style scoped>\n",
       "    .dataframe tbody tr th:only-of-type {\n",
       "        vertical-align: middle;\n",
       "    }\n",
       "\n",
       "    .dataframe tbody tr th {\n",
       "        vertical-align: top;\n",
       "    }\n",
       "\n",
       "    .dataframe thead th {\n",
       "        text-align: right;\n",
       "    }\n",
       "</style>\n",
       "<table border=\"1\" class=\"dataframe\">\n",
       "  <thead>\n",
       "    <tr style=\"text-align: right;\">\n",
       "      <th></th>\n",
       "      <th>Comments</th>\n",
       "      <th>Followers</th>\n",
       "      <th>Likes</th>\n",
       "      <th>Popularity</th>\n",
       "      <th>Unique_ID</th>\n",
       "      <th>Views</th>\n",
       "    </tr>\n",
       "  </thead>\n",
       "  <tbody>\n",
       "    <tr>\n",
       "      <th>0</th>\n",
       "      <td>4</td>\n",
       "      <td>119563</td>\n",
       "      <td>499.0</td>\n",
       "      <td>97.0</td>\n",
       "      <td>413890</td>\n",
       "      <td>14017.0</td>\n",
       "    </tr>\n",
       "    <tr>\n",
       "      <th>1</th>\n",
       "      <td>17</td>\n",
       "      <td>2141</td>\n",
       "      <td>49.0</td>\n",
       "      <td>17.0</td>\n",
       "      <td>249453</td>\n",
       "      <td>1918.0</td>\n",
       "    </tr>\n",
       "    <tr>\n",
       "      <th>2</th>\n",
       "      <td>11</td>\n",
       "      <td>22248</td>\n",
       "      <td>312.0</td>\n",
       "      <td>91.0</td>\n",
       "      <td>681116</td>\n",
       "      <td>9668.0</td>\n",
       "    </tr>\n",
       "    <tr>\n",
       "      <th>3</th>\n",
       "      <td>2</td>\n",
       "      <td>393655</td>\n",
       "      <td>2400.0</td>\n",
       "      <td>76.0</td>\n",
       "      <td>387253</td>\n",
       "      <td>113036.0</td>\n",
       "    </tr>\n",
       "    <tr>\n",
       "      <th>4</th>\n",
       "      <td>81</td>\n",
       "      <td>201030</td>\n",
       "      <td>3031.0</td>\n",
       "      <td>699.0</td>\n",
       "      <td>1428029</td>\n",
       "      <td>110024.0</td>\n",
       "    </tr>\n",
       "    <tr>\n",
       "      <th>5</th>\n",
       "      <td>6</td>\n",
       "      <td>71038</td>\n",
       "      <td>4500.0</td>\n",
       "      <td>325.0</td>\n",
       "      <td>2839</td>\n",
       "      <td>223716.0</td>\n",
       "    </tr>\n",
       "    <tr>\n",
       "      <th>6</th>\n",
       "      <td>15</td>\n",
       "      <td>119563</td>\n",
       "      <td>1017.0</td>\n",
       "      <td>226.0</td>\n",
       "      <td>414871</td>\n",
       "      <td>37480.0</td>\n",
       "    </tr>\n",
       "    <tr>\n",
       "      <th>7</th>\n",
       "      <td>5</td>\n",
       "      <td>7120051</td>\n",
       "      <td>88.0</td>\n",
       "      <td>12.0</td>\n",
       "      <td>209496</td>\n",
       "      <td>4022.0</td>\n",
       "    </tr>\n",
       "    <tr>\n",
       "      <th>8</th>\n",
       "      <td>0</td>\n",
       "      <td>1892</td>\n",
       "      <td>28.0</td>\n",
       "      <td>7.0</td>\n",
       "      <td>967409</td>\n",
       "      <td>1263.0</td>\n",
       "    </tr>\n",
       "    <tr>\n",
       "      <th>9</th>\n",
       "      <td>0</td>\n",
       "      <td>2835</td>\n",
       "      <td>622.0</td>\n",
       "      <td>47.0</td>\n",
       "      <td>171948</td>\n",
       "      <td>27874.0</td>\n",
       "    </tr>\n",
       "    <tr>\n",
       "      <th>10</th>\n",
       "      <td>23</td>\n",
       "      <td>60805</td>\n",
       "      <td>397.0</td>\n",
       "      <td>124.0</td>\n",
       "      <td>1457484</td>\n",
       "      <td>14411.0</td>\n",
       "    </tr>\n",
       "    <tr>\n",
       "      <th>11</th>\n",
       "      <td>117</td>\n",
       "      <td>449978</td>\n",
       "      <td>3360.0</td>\n",
       "      <td>753.0</td>\n",
       "      <td>1176704</td>\n",
       "      <td>115136.0</td>\n",
       "    </tr>\n",
       "    <tr>\n",
       "      <th>12</th>\n",
       "      <td>42</td>\n",
       "      <td>15839</td>\n",
       "      <td>44.0</td>\n",
       "      <td>0.0</td>\n",
       "      <td>1508244</td>\n",
       "      <td>3636.0</td>\n",
       "    </tr>\n",
       "    <tr>\n",
       "      <th>13</th>\n",
       "      <td>14</td>\n",
       "      <td>29360</td>\n",
       "      <td>512.0</td>\n",
       "      <td>64.0</td>\n",
       "      <td>459831</td>\n",
       "      <td>13617.0</td>\n",
       "    </tr>\n",
       "    <tr>\n",
       "      <th>14</th>\n",
       "      <td>7</td>\n",
       "      <td>119563</td>\n",
       "      <td>795.0</td>\n",
       "      <td>179.0</td>\n",
       "      <td>414890</td>\n",
       "      <td>25859.0</td>\n",
       "    </tr>\n",
       "    <tr>\n",
       "      <th>15</th>\n",
       "      <td>31</td>\n",
       "      <td>271</td>\n",
       "      <td>921.0</td>\n",
       "      <td>78.0</td>\n",
       "      <td>680536</td>\n",
       "      <td>55360.0</td>\n",
       "    </tr>\n",
       "    <tr>\n",
       "      <th>16</th>\n",
       "      <td>44</td>\n",
       "      <td>1007396</td>\n",
       "      <td>3510.0</td>\n",
       "      <td>453.0</td>\n",
       "      <td>815152</td>\n",
       "      <td>150755.0</td>\n",
       "    </tr>\n",
       "    <tr>\n",
       "      <th>17</th>\n",
       "      <td>978</td>\n",
       "      <td>1007396</td>\n",
       "      <td>16100.0</td>\n",
       "      <td>3463.0</td>\n",
       "      <td>816350</td>\n",
       "      <td>1243585.0</td>\n",
       "    </tr>\n",
       "    <tr>\n",
       "      <th>18</th>\n",
       "      <td>45</td>\n",
       "      <td>113537</td>\n",
       "      <td>408.0</td>\n",
       "      <td>35.0</td>\n",
       "      <td>24991</td>\n",
       "      <td>26587.0</td>\n",
       "    </tr>\n",
       "    <tr>\n",
       "      <th>19</th>\n",
       "      <td>47</td>\n",
       "      <td>60435</td>\n",
       "      <td>2365.0</td>\n",
       "      <td>600.0</td>\n",
       "      <td>1231971</td>\n",
       "      <td>167110.0</td>\n",
       "    </tr>\n",
       "    <tr>\n",
       "      <th>20</th>\n",
       "      <td>0</td>\n",
       "      <td>76211</td>\n",
       "      <td>75.0</td>\n",
       "      <td>12.0</td>\n",
       "      <td>1431925</td>\n",
       "      <td>3383.0</td>\n",
       "    </tr>\n",
       "    <tr>\n",
       "      <th>21</th>\n",
       "      <td>27</td>\n",
       "      <td>198880</td>\n",
       "      <td>4225.0</td>\n",
       "      <td>352.0</td>\n",
       "      <td>445211</td>\n",
       "      <td>250198.0</td>\n",
       "    </tr>\n",
       "    <tr>\n",
       "      <th>22</th>\n",
       "      <td>1</td>\n",
       "      <td>6342</td>\n",
       "      <td>202.0</td>\n",
       "      <td>14.0</td>\n",
       "      <td>1103451</td>\n",
       "      <td>12318.0</td>\n",
       "    </tr>\n",
       "    <tr>\n",
       "      <th>23</th>\n",
       "      <td>0</td>\n",
       "      <td>24016</td>\n",
       "      <td>7.0</td>\n",
       "      <td>1.0</td>\n",
       "      <td>1086938</td>\n",
       "      <td>233.0</td>\n",
       "    </tr>\n",
       "    <tr>\n",
       "      <th>24</th>\n",
       "      <td>468</td>\n",
       "      <td>156764</td>\n",
       "      <td>26500.0</td>\n",
       "      <td>6687.0</td>\n",
       "      <td>125159</td>\n",
       "      <td>909385.0</td>\n",
       "    </tr>\n",
       "    <tr>\n",
       "      <th>25</th>\n",
       "      <td>17</td>\n",
       "      <td>155645</td>\n",
       "      <td>945.0</td>\n",
       "      <td>205.0</td>\n",
       "      <td>907567</td>\n",
       "      <td>34244.0</td>\n",
       "    </tr>\n",
       "    <tr>\n",
       "      <th>26</th>\n",
       "      <td>70</td>\n",
       "      <td>47883</td>\n",
       "      <td>7383.0</td>\n",
       "      <td>457.0</td>\n",
       "      <td>257221</td>\n",
       "      <td>276204.0</td>\n",
       "    </tr>\n",
       "    <tr>\n",
       "      <th>27</th>\n",
       "      <td>0</td>\n",
       "      <td>14652</td>\n",
       "      <td>39.0</td>\n",
       "      <td>1.0</td>\n",
       "      <td>1382516</td>\n",
       "      <td>2862.0</td>\n",
       "    </tr>\n",
       "    <tr>\n",
       "      <th>28</th>\n",
       "      <td>24</td>\n",
       "      <td>4366</td>\n",
       "      <td>5568.0</td>\n",
       "      <td>61.0</td>\n",
       "      <td>112485</td>\n",
       "      <td>520389.0</td>\n",
       "    </tr>\n",
       "    <tr>\n",
       "      <th>29</th>\n",
       "      <td>61</td>\n",
       "      <td>738781</td>\n",
       "      <td>7137.0</td>\n",
       "      <td>1453.0</td>\n",
       "      <td>915199</td>\n",
       "      <td>380818.0</td>\n",
       "    </tr>\n",
       "    <tr>\n",
       "      <th>...</th>\n",
       "      <td>...</td>\n",
       "      <td>...</td>\n",
       "      <td>...</td>\n",
       "      <td>...</td>\n",
       "      <td>...</td>\n",
       "      <td>...</td>\n",
       "    </tr>\n",
       "    <tr>\n",
       "      <th>19585</th>\n",
       "      <td>55</td>\n",
       "      <td>287731</td>\n",
       "      <td>6759.0</td>\n",
       "      <td>689.0</td>\n",
       "      <td>378006</td>\n",
       "      <td>NaN</td>\n",
       "    </tr>\n",
       "    <tr>\n",
       "      <th>19586</th>\n",
       "      <td>0</td>\n",
       "      <td>3745</td>\n",
       "      <td>11.0</td>\n",
       "      <td>3.0</td>\n",
       "      <td>407662</td>\n",
       "      <td>NaN</td>\n",
       "    </tr>\n",
       "    <tr>\n",
       "      <th>19587</th>\n",
       "      <td>1</td>\n",
       "      <td>23477</td>\n",
       "      <td>524.0</td>\n",
       "      <td>75.0</td>\n",
       "      <td>65951</td>\n",
       "      <td>NaN</td>\n",
       "    </tr>\n",
       "    <tr>\n",
       "      <th>19588</th>\n",
       "      <td>181</td>\n",
       "      <td>1007396</td>\n",
       "      <td>9362.0</td>\n",
       "      <td>1700.0</td>\n",
       "      <td>815471</td>\n",
       "      <td>NaN</td>\n",
       "    </tr>\n",
       "    <tr>\n",
       "      <th>19589</th>\n",
       "      <td>17</td>\n",
       "      <td>3243</td>\n",
       "      <td>9138.0</td>\n",
       "      <td>483.0</td>\n",
       "      <td>624213</td>\n",
       "      <td>NaN</td>\n",
       "    </tr>\n",
       "    <tr>\n",
       "      <th>19590</th>\n",
       "      <td>0</td>\n",
       "      <td>11237</td>\n",
       "      <td>18.0</td>\n",
       "      <td>0.0</td>\n",
       "      <td>899686</td>\n",
       "      <td>NaN</td>\n",
       "    </tr>\n",
       "    <tr>\n",
       "      <th>19591</th>\n",
       "      <td>70</td>\n",
       "      <td>143743</td>\n",
       "      <td>1304.0</td>\n",
       "      <td>280.0</td>\n",
       "      <td>175422</td>\n",
       "      <td>NaN</td>\n",
       "    </tr>\n",
       "    <tr>\n",
       "      <th>19592</th>\n",
       "      <td>23</td>\n",
       "      <td>165268</td>\n",
       "      <td>386.0</td>\n",
       "      <td>41.0</td>\n",
       "      <td>539582</td>\n",
       "      <td>NaN</td>\n",
       "    </tr>\n",
       "    <tr>\n",
       "      <th>19593</th>\n",
       "      <td>0</td>\n",
       "      <td>506878</td>\n",
       "      <td>104.0</td>\n",
       "      <td>4.0</td>\n",
       "      <td>1212003</td>\n",
       "      <td>NaN</td>\n",
       "    </tr>\n",
       "    <tr>\n",
       "      <th>19594</th>\n",
       "      <td>0</td>\n",
       "      <td>2417</td>\n",
       "      <td>27.0</td>\n",
       "      <td>2.0</td>\n",
       "      <td>1558764</td>\n",
       "      <td>NaN</td>\n",
       "    </tr>\n",
       "    <tr>\n",
       "      <th>19595</th>\n",
       "      <td>0</td>\n",
       "      <td>214428</td>\n",
       "      <td>29.0</td>\n",
       "      <td>7.0</td>\n",
       "      <td>375753</td>\n",
       "      <td>NaN</td>\n",
       "    </tr>\n",
       "    <tr>\n",
       "      <th>19596</th>\n",
       "      <td>0</td>\n",
       "      <td>70299</td>\n",
       "      <td>2.0</td>\n",
       "      <td>0.0</td>\n",
       "      <td>1120485</td>\n",
       "      <td>NaN</td>\n",
       "    </tr>\n",
       "    <tr>\n",
       "      <th>19597</th>\n",
       "      <td>10</td>\n",
       "      <td>29446</td>\n",
       "      <td>461.0</td>\n",
       "      <td>113.0</td>\n",
       "      <td>212725</td>\n",
       "      <td>NaN</td>\n",
       "    </tr>\n",
       "    <tr>\n",
       "      <th>19598</th>\n",
       "      <td>0</td>\n",
       "      <td>5928</td>\n",
       "      <td>297.0</td>\n",
       "      <td>30.0</td>\n",
       "      <td>172393</td>\n",
       "      <td>NaN</td>\n",
       "    </tr>\n",
       "    <tr>\n",
       "      <th>19599</th>\n",
       "      <td>7</td>\n",
       "      <td>119563</td>\n",
       "      <td>1044.0</td>\n",
       "      <td>190.0</td>\n",
       "      <td>414322</td>\n",
       "      <td>NaN</td>\n",
       "    </tr>\n",
       "    <tr>\n",
       "      <th>19600</th>\n",
       "      <td>297</td>\n",
       "      <td>8239</td>\n",
       "      <td>413.0</td>\n",
       "      <td>317.0</td>\n",
       "      <td>704293</td>\n",
       "      <td>NaN</td>\n",
       "    </tr>\n",
       "    <tr>\n",
       "      <th>19601</th>\n",
       "      <td>203</td>\n",
       "      <td>168101</td>\n",
       "      <td>17300.0</td>\n",
       "      <td>2623.0</td>\n",
       "      <td>1073291</td>\n",
       "      <td>NaN</td>\n",
       "    </tr>\n",
       "    <tr>\n",
       "      <th>19602</th>\n",
       "      <td>71</td>\n",
       "      <td>57921</td>\n",
       "      <td>2752.0</td>\n",
       "      <td>393.0</td>\n",
       "      <td>1233240</td>\n",
       "      <td>NaN</td>\n",
       "    </tr>\n",
       "    <tr>\n",
       "      <th>19603</th>\n",
       "      <td>2</td>\n",
       "      <td>165268</td>\n",
       "      <td>140.0</td>\n",
       "      <td>17.0</td>\n",
       "      <td>539762</td>\n",
       "      <td>NaN</td>\n",
       "    </tr>\n",
       "    <tr>\n",
       "      <th>19604</th>\n",
       "      <td>29</td>\n",
       "      <td>417</td>\n",
       "      <td>2139.0</td>\n",
       "      <td>133.0</td>\n",
       "      <td>84340</td>\n",
       "      <td>NaN</td>\n",
       "    </tr>\n",
       "    <tr>\n",
       "      <th>19605</th>\n",
       "      <td>3</td>\n",
       "      <td>13397</td>\n",
       "      <td>65.0</td>\n",
       "      <td>8.0</td>\n",
       "      <td>1251032</td>\n",
       "      <td>NaN</td>\n",
       "    </tr>\n",
       "    <tr>\n",
       "      <th>19606</th>\n",
       "      <td>18</td>\n",
       "      <td>278627</td>\n",
       "      <td>1690.0</td>\n",
       "      <td>109.0</td>\n",
       "      <td>971579</td>\n",
       "      <td>NaN</td>\n",
       "    </tr>\n",
       "    <tr>\n",
       "      <th>19607</th>\n",
       "      <td>1</td>\n",
       "      <td>393655</td>\n",
       "      <td>610.0</td>\n",
       "      <td>27.0</td>\n",
       "      <td>386716</td>\n",
       "      <td>NaN</td>\n",
       "    </tr>\n",
       "    <tr>\n",
       "      <th>19608</th>\n",
       "      <td>26</td>\n",
       "      <td>75814</td>\n",
       "      <td>4738.0</td>\n",
       "      <td>231.0</td>\n",
       "      <td>982417</td>\n",
       "      <td>NaN</td>\n",
       "    </tr>\n",
       "    <tr>\n",
       "      <th>19609</th>\n",
       "      <td>0</td>\n",
       "      <td>568826</td>\n",
       "      <td>0.0</td>\n",
       "      <td>0.0</td>\n",
       "      <td>355163</td>\n",
       "      <td>NaN</td>\n",
       "    </tr>\n",
       "    <tr>\n",
       "      <th>19610</th>\n",
       "      <td>17</td>\n",
       "      <td>357007</td>\n",
       "      <td>1775.0</td>\n",
       "      <td>341.0</td>\n",
       "      <td>183403</td>\n",
       "      <td>NaN</td>\n",
       "    </tr>\n",
       "    <tr>\n",
       "      <th>19611</th>\n",
       "      <td>12</td>\n",
       "      <td>17356</td>\n",
       "      <td>2095.0</td>\n",
       "      <td>305.0</td>\n",
       "      <td>1272578</td>\n",
       "      <td>NaN</td>\n",
       "    </tr>\n",
       "    <tr>\n",
       "      <th>19612</th>\n",
       "      <td>5</td>\n",
       "      <td>165268</td>\n",
       "      <td>39.0</td>\n",
       "      <td>12.0</td>\n",
       "      <td>539454</td>\n",
       "      <td>NaN</td>\n",
       "    </tr>\n",
       "    <tr>\n",
       "      <th>19613</th>\n",
       "      <td>113</td>\n",
       "      <td>52573</td>\n",
       "      <td>3754.0</td>\n",
       "      <td>666.0</td>\n",
       "      <td>1543013</td>\n",
       "      <td>NaN</td>\n",
       "    </tr>\n",
       "    <tr>\n",
       "      <th>19614</th>\n",
       "      <td>10</td>\n",
       "      <td>119563</td>\n",
       "      <td>627.0</td>\n",
       "      <td>141.0</td>\n",
       "      <td>415046</td>\n",
       "      <td>NaN</td>\n",
       "    </tr>\n",
       "  </tbody>\n",
       "</table>\n",
       "<p>98073 rows × 6 columns</p>\n",
       "</div>"
      ],
      "text/plain": [
       "       Comments  Followers    Likes  Popularity  Unique_ID      Views\n",
       "0             4     119563    499.0        97.0     413890    14017.0\n",
       "1            17       2141     49.0        17.0     249453     1918.0\n",
       "2            11      22248    312.0        91.0     681116     9668.0\n",
       "3             2     393655   2400.0        76.0     387253   113036.0\n",
       "4            81     201030   3031.0       699.0    1428029   110024.0\n",
       "5             6      71038   4500.0       325.0       2839   223716.0\n",
       "6            15     119563   1017.0       226.0     414871    37480.0\n",
       "7             5    7120051     88.0        12.0     209496     4022.0\n",
       "8             0       1892     28.0         7.0     967409     1263.0\n",
       "9             0       2835    622.0        47.0     171948    27874.0\n",
       "10           23      60805    397.0       124.0    1457484    14411.0\n",
       "11          117     449978   3360.0       753.0    1176704   115136.0\n",
       "12           42      15839     44.0         0.0    1508244     3636.0\n",
       "13           14      29360    512.0        64.0     459831    13617.0\n",
       "14            7     119563    795.0       179.0     414890    25859.0\n",
       "15           31        271    921.0        78.0     680536    55360.0\n",
       "16           44    1007396   3510.0       453.0     815152   150755.0\n",
       "17          978    1007396  16100.0      3463.0     816350  1243585.0\n",
       "18           45     113537    408.0        35.0      24991    26587.0\n",
       "19           47      60435   2365.0       600.0    1231971   167110.0\n",
       "20            0      76211     75.0        12.0    1431925     3383.0\n",
       "21           27     198880   4225.0       352.0     445211   250198.0\n",
       "22            1       6342    202.0        14.0    1103451    12318.0\n",
       "23            0      24016      7.0         1.0    1086938      233.0\n",
       "24          468     156764  26500.0      6687.0     125159   909385.0\n",
       "25           17     155645    945.0       205.0     907567    34244.0\n",
       "26           70      47883   7383.0       457.0     257221   276204.0\n",
       "27            0      14652     39.0         1.0    1382516     2862.0\n",
       "28           24       4366   5568.0        61.0     112485   520389.0\n",
       "29           61     738781   7137.0      1453.0     915199   380818.0\n",
       "...         ...        ...      ...         ...        ...        ...\n",
       "19585        55     287731   6759.0       689.0     378006        NaN\n",
       "19586         0       3745     11.0         3.0     407662        NaN\n",
       "19587         1      23477    524.0        75.0      65951        NaN\n",
       "19588       181    1007396   9362.0      1700.0     815471        NaN\n",
       "19589        17       3243   9138.0       483.0     624213        NaN\n",
       "19590         0      11237     18.0         0.0     899686        NaN\n",
       "19591        70     143743   1304.0       280.0     175422        NaN\n",
       "19592        23     165268    386.0        41.0     539582        NaN\n",
       "19593         0     506878    104.0         4.0    1212003        NaN\n",
       "19594         0       2417     27.0         2.0    1558764        NaN\n",
       "19595         0     214428     29.0         7.0     375753        NaN\n",
       "19596         0      70299      2.0         0.0    1120485        NaN\n",
       "19597        10      29446    461.0       113.0     212725        NaN\n",
       "19598         0       5928    297.0        30.0     172393        NaN\n",
       "19599         7     119563   1044.0       190.0     414322        NaN\n",
       "19600       297       8239    413.0       317.0     704293        NaN\n",
       "19601       203     168101  17300.0      2623.0    1073291        NaN\n",
       "19602        71      57921   2752.0       393.0    1233240        NaN\n",
       "19603         2     165268    140.0        17.0     539762        NaN\n",
       "19604        29        417   2139.0       133.0      84340        NaN\n",
       "19605         3      13397     65.0         8.0    1251032        NaN\n",
       "19606        18     278627   1690.0       109.0     971579        NaN\n",
       "19607         1     393655    610.0        27.0     386716        NaN\n",
       "19608        26      75814   4738.0       231.0     982417        NaN\n",
       "19609         0     568826      0.0         0.0     355163        NaN\n",
       "19610        17     357007   1775.0       341.0     183403        NaN\n",
       "19611        12      17356   2095.0       305.0    1272578        NaN\n",
       "19612         5     165268     39.0        12.0     539454        NaN\n",
       "19613       113      52573   3754.0       666.0    1543013        NaN\n",
       "19614        10     119563    627.0       141.0     415046        NaN\n",
       "\n",
       "[98073 rows x 6 columns]"
      ]
     },
     "execution_count": 63,
     "metadata": {},
     "output_type": "execute_result"
    }
   ],
   "source": [
    "num_col"
   ]
  },
  {
   "cell_type": "code",
   "execution_count": 148,
   "metadata": {},
   "outputs": [
    {
     "ename": "ValueError",
     "evalue": "No objects to concatenate",
     "output_type": "error",
     "traceback": [
      "\u001b[1;31m---------------------------------------------------------------------------\u001b[0m",
      "\u001b[1;31mValueError\u001b[0m                                Traceback (most recent call last)",
      "\u001b[1;32m<ipython-input-148-e6871773db21>\u001b[0m in \u001b[0;36m<module>\u001b[1;34m\u001b[0m\n\u001b[1;32m----> 1\u001b[1;33m \u001b[0mcat_col_pr\u001b[0m\u001b[1;33m=\u001b[0m\u001b[0mpd\u001b[0m\u001b[1;33m.\u001b[0m\u001b[0mget_dummies\u001b[0m\u001b[1;33m(\u001b[0m\u001b[0mcat_col\u001b[0m\u001b[1;33m)\u001b[0m\u001b[1;33m\u001b[0m\u001b[1;33m\u001b[0m\u001b[0m\n\u001b[0m",
      "\u001b[1;32m~\\Anaconda3\\lib\\site-packages\\pandas\\core\\reshape\\reshape.py\u001b[0m in \u001b[0;36mget_dummies\u001b[1;34m(data, prefix, prefix_sep, dummy_na, columns, sparse, drop_first, dtype)\u001b[0m\n\u001b[0;32m    859\u001b[0m                                     drop_first=drop_first, dtype=dtype)\n\u001b[0;32m    860\u001b[0m             \u001b[0mwith_dummies\u001b[0m\u001b[1;33m.\u001b[0m\u001b[0mappend\u001b[0m\u001b[1;33m(\u001b[0m\u001b[0mdummy\u001b[0m\u001b[1;33m)\u001b[0m\u001b[1;33m\u001b[0m\u001b[1;33m\u001b[0m\u001b[0m\n\u001b[1;32m--> 861\u001b[1;33m         \u001b[0mresult\u001b[0m \u001b[1;33m=\u001b[0m \u001b[0mconcat\u001b[0m\u001b[1;33m(\u001b[0m\u001b[0mwith_dummies\u001b[0m\u001b[1;33m,\u001b[0m \u001b[0maxis\u001b[0m\u001b[1;33m=\u001b[0m\u001b[1;36m1\u001b[0m\u001b[1;33m)\u001b[0m\u001b[1;33m\u001b[0m\u001b[1;33m\u001b[0m\u001b[0m\n\u001b[0m\u001b[0;32m    862\u001b[0m     \u001b[1;32melse\u001b[0m\u001b[1;33m:\u001b[0m\u001b[1;33m\u001b[0m\u001b[1;33m\u001b[0m\u001b[0m\n\u001b[0;32m    863\u001b[0m         result = _get_dummies_1d(data, prefix, prefix_sep, dummy_na,\n",
      "\u001b[1;32m~\\Anaconda3\\lib\\site-packages\\pandas\\core\\reshape\\concat.py\u001b[0m in \u001b[0;36mconcat\u001b[1;34m(objs, axis, join, join_axes, ignore_index, keys, levels, names, verify_integrity, sort, copy)\u001b[0m\n\u001b[0;32m    226\u001b[0m                        \u001b[0mkeys\u001b[0m\u001b[1;33m=\u001b[0m\u001b[0mkeys\u001b[0m\u001b[1;33m,\u001b[0m \u001b[0mlevels\u001b[0m\u001b[1;33m=\u001b[0m\u001b[0mlevels\u001b[0m\u001b[1;33m,\u001b[0m \u001b[0mnames\u001b[0m\u001b[1;33m=\u001b[0m\u001b[0mnames\u001b[0m\u001b[1;33m,\u001b[0m\u001b[1;33m\u001b[0m\u001b[1;33m\u001b[0m\u001b[0m\n\u001b[0;32m    227\u001b[0m                        \u001b[0mverify_integrity\u001b[0m\u001b[1;33m=\u001b[0m\u001b[0mverify_integrity\u001b[0m\u001b[1;33m,\u001b[0m\u001b[1;33m\u001b[0m\u001b[1;33m\u001b[0m\u001b[0m\n\u001b[1;32m--> 228\u001b[1;33m                        copy=copy, sort=sort)\n\u001b[0m\u001b[0;32m    229\u001b[0m     \u001b[1;32mreturn\u001b[0m \u001b[0mop\u001b[0m\u001b[1;33m.\u001b[0m\u001b[0mget_result\u001b[0m\u001b[1;33m(\u001b[0m\u001b[1;33m)\u001b[0m\u001b[1;33m\u001b[0m\u001b[1;33m\u001b[0m\u001b[0m\n\u001b[0;32m    230\u001b[0m \u001b[1;33m\u001b[0m\u001b[0m\n",
      "\u001b[1;32m~\\Anaconda3\\lib\\site-packages\\pandas\\core\\reshape\\concat.py\u001b[0m in \u001b[0;36m__init__\u001b[1;34m(self, objs, axis, join, join_axes, keys, levels, names, ignore_index, verify_integrity, copy, sort)\u001b[0m\n\u001b[0;32m    260\u001b[0m \u001b[1;33m\u001b[0m\u001b[0m\n\u001b[0;32m    261\u001b[0m         \u001b[1;32mif\u001b[0m \u001b[0mlen\u001b[0m\u001b[1;33m(\u001b[0m\u001b[0mobjs\u001b[0m\u001b[1;33m)\u001b[0m \u001b[1;33m==\u001b[0m \u001b[1;36m0\u001b[0m\u001b[1;33m:\u001b[0m\u001b[1;33m\u001b[0m\u001b[1;33m\u001b[0m\u001b[0m\n\u001b[1;32m--> 262\u001b[1;33m             \u001b[1;32mraise\u001b[0m \u001b[0mValueError\u001b[0m\u001b[1;33m(\u001b[0m\u001b[1;34m'No objects to concatenate'\u001b[0m\u001b[1;33m)\u001b[0m\u001b[1;33m\u001b[0m\u001b[1;33m\u001b[0m\u001b[0m\n\u001b[0m\u001b[0;32m    263\u001b[0m \u001b[1;33m\u001b[0m\u001b[0m\n\u001b[0;32m    264\u001b[0m         \u001b[1;32mif\u001b[0m \u001b[0mkeys\u001b[0m \u001b[1;32mis\u001b[0m \u001b[1;32mNone\u001b[0m\u001b[1;33m:\u001b[0m\u001b[1;33m\u001b[0m\u001b[1;33m\u001b[0m\u001b[0m\n",
      "\u001b[1;31mValueError\u001b[0m: No objects to concatenate"
     ]
    }
   ],
   "source": [
    "cat_col_pr=pd.get_dummies(cat_col)"
   ]
  },
  {
   "cell_type": "code",
   "execution_count": 149,
   "metadata": {},
   "outputs": [],
   "source": [
    "data_new=pd.concat([num_col,cat_col],axis=1)"
   ]
  },
  {
   "cell_type": "code",
   "execution_count": 150,
   "metadata": {},
   "outputs": [
    {
     "data": {
      "text/plain": [
       "(98073, 6)"
      ]
     },
     "execution_count": 150,
     "metadata": {},
     "output_type": "execute_result"
    }
   ],
   "source": [
    "data_new.shape"
   ]
  },
  {
   "cell_type": "code",
   "execution_count": 151,
   "metadata": {},
   "outputs": [
    {
     "data": {
      "text/html": [
       "<div>\n",
       "<style scoped>\n",
       "    .dataframe tbody tr th:only-of-type {\n",
       "        vertical-align: middle;\n",
       "    }\n",
       "\n",
       "    .dataframe tbody tr th {\n",
       "        vertical-align: top;\n",
       "    }\n",
       "\n",
       "    .dataframe thead th {\n",
       "        text-align: right;\n",
       "    }\n",
       "</style>\n",
       "<table border=\"1\" class=\"dataframe\">\n",
       "  <thead>\n",
       "    <tr style=\"text-align: right;\">\n",
       "      <th></th>\n",
       "      <th>Comments</th>\n",
       "      <th>Followers</th>\n",
       "      <th>Likes</th>\n",
       "      <th>Popularity</th>\n",
       "      <th>Unique_ID</th>\n",
       "      <th>Views</th>\n",
       "    </tr>\n",
       "  </thead>\n",
       "  <tbody>\n",
       "    <tr>\n",
       "      <th>0</th>\n",
       "      <td>4</td>\n",
       "      <td>119563</td>\n",
       "      <td>499.0</td>\n",
       "      <td>97.0</td>\n",
       "      <td>413890</td>\n",
       "      <td>14017.0</td>\n",
       "    </tr>\n",
       "    <tr>\n",
       "      <th>1</th>\n",
       "      <td>17</td>\n",
       "      <td>2141</td>\n",
       "      <td>49.0</td>\n",
       "      <td>17.0</td>\n",
       "      <td>249453</td>\n",
       "      <td>1918.0</td>\n",
       "    </tr>\n",
       "    <tr>\n",
       "      <th>2</th>\n",
       "      <td>11</td>\n",
       "      <td>22248</td>\n",
       "      <td>312.0</td>\n",
       "      <td>91.0</td>\n",
       "      <td>681116</td>\n",
       "      <td>9668.0</td>\n",
       "    </tr>\n",
       "    <tr>\n",
       "      <th>3</th>\n",
       "      <td>2</td>\n",
       "      <td>393655</td>\n",
       "      <td>2400.0</td>\n",
       "      <td>76.0</td>\n",
       "      <td>387253</td>\n",
       "      <td>113036.0</td>\n",
       "    </tr>\n",
       "    <tr>\n",
       "      <th>4</th>\n",
       "      <td>81</td>\n",
       "      <td>201030</td>\n",
       "      <td>3031.0</td>\n",
       "      <td>699.0</td>\n",
       "      <td>1428029</td>\n",
       "      <td>110024.0</td>\n",
       "    </tr>\n",
       "  </tbody>\n",
       "</table>\n",
       "</div>"
      ],
      "text/plain": [
       "   Comments  Followers   Likes  Popularity  Unique_ID     Views\n",
       "0         4     119563   499.0        97.0     413890   14017.0\n",
       "1        17       2141    49.0        17.0     249453    1918.0\n",
       "2        11      22248   312.0        91.0     681116    9668.0\n",
       "3         2     393655  2400.0        76.0     387253  113036.0\n",
       "4        81     201030  3031.0       699.0    1428029  110024.0"
      ]
     },
     "execution_count": 151,
     "metadata": {},
     "output_type": "execute_result"
    }
   ],
   "source": [
    "data_new.head()"
   ]
  },
  {
   "cell_type": "markdown",
   "metadata": {},
   "source": [
    "## Train and Test"
   ]
  },
  {
   "cell_type": "code",
   "execution_count": 152,
   "metadata": {},
   "outputs": [],
   "source": [
    "train_new=data_new[data_new[\"Views\"].notna()]"
   ]
  },
  {
   "cell_type": "code",
   "execution_count": 153,
   "metadata": {},
   "outputs": [],
   "source": [
    "test_new=data_new[data_new[\"Views\"].isna()]"
   ]
  },
  {
   "cell_type": "code",
   "execution_count": 154,
   "metadata": {},
   "outputs": [],
   "source": [
    "train_new[\"Views\"]=train_new[\"Views\"].astype(int)"
   ]
  },
  {
   "cell_type": "code",
   "execution_count": 71,
   "metadata": {},
   "outputs": [
    {
     "data": {
      "text/plain": [
       "(19615, 27)"
      ]
     },
     "execution_count": 71,
     "metadata": {},
     "output_type": "execute_result"
    }
   ],
   "source": [
    "test_new.shape\n"
   ]
  },
  {
   "cell_type": "markdown",
   "metadata": {},
   "source": [
    "## X and Y split"
   ]
  },
  {
   "cell_type": "code",
   "execution_count": 155,
   "metadata": {},
   "outputs": [],
   "source": [
    "X=train_new.drop(columns={\"Views\",\"Unique_ID\"})"
   ]
  },
  {
   "cell_type": "code",
   "execution_count": 156,
   "metadata": {},
   "outputs": [],
   "source": [
    "y=train_new[\"Views\"]"
   ]
  },
  {
   "cell_type": "code",
   "execution_count": 157,
   "metadata": {},
   "outputs": [
    {
     "data": {
      "text/html": [
       "<div>\n",
       "<style scoped>\n",
       "    .dataframe tbody tr th:only-of-type {\n",
       "        vertical-align: middle;\n",
       "    }\n",
       "\n",
       "    .dataframe tbody tr th {\n",
       "        vertical-align: top;\n",
       "    }\n",
       "\n",
       "    .dataframe thead th {\n",
       "        text-align: right;\n",
       "    }\n",
       "</style>\n",
       "<table border=\"1\" class=\"dataframe\">\n",
       "  <thead>\n",
       "    <tr style=\"text-align: right;\">\n",
       "      <th></th>\n",
       "      <th>Comments</th>\n",
       "      <th>Followers</th>\n",
       "      <th>Likes</th>\n",
       "      <th>Popularity</th>\n",
       "    </tr>\n",
       "  </thead>\n",
       "  <tbody>\n",
       "    <tr>\n",
       "      <th>0</th>\n",
       "      <td>4</td>\n",
       "      <td>119563</td>\n",
       "      <td>499.0</td>\n",
       "      <td>97.0</td>\n",
       "    </tr>\n",
       "    <tr>\n",
       "      <th>1</th>\n",
       "      <td>17</td>\n",
       "      <td>2141</td>\n",
       "      <td>49.0</td>\n",
       "      <td>17.0</td>\n",
       "    </tr>\n",
       "    <tr>\n",
       "      <th>2</th>\n",
       "      <td>11</td>\n",
       "      <td>22248</td>\n",
       "      <td>312.0</td>\n",
       "      <td>91.0</td>\n",
       "    </tr>\n",
       "    <tr>\n",
       "      <th>3</th>\n",
       "      <td>2</td>\n",
       "      <td>393655</td>\n",
       "      <td>2400.0</td>\n",
       "      <td>76.0</td>\n",
       "    </tr>\n",
       "    <tr>\n",
       "      <th>4</th>\n",
       "      <td>81</td>\n",
       "      <td>201030</td>\n",
       "      <td>3031.0</td>\n",
       "      <td>699.0</td>\n",
       "    </tr>\n",
       "  </tbody>\n",
       "</table>\n",
       "</div>"
      ],
      "text/plain": [
       "   Comments  Followers   Likes  Popularity\n",
       "0         4     119563   499.0        97.0\n",
       "1        17       2141    49.0        17.0\n",
       "2        11      22248   312.0        91.0\n",
       "3         2     393655  2400.0        76.0\n",
       "4        81     201030  3031.0       699.0"
      ]
     },
     "execution_count": 157,
     "metadata": {},
     "output_type": "execute_result"
    }
   ],
   "source": [
    "X.head()"
   ]
  },
  {
   "cell_type": "code",
   "execution_count": 158,
   "metadata": {},
   "outputs": [
    {
     "data": {
      "text/plain": [
       "(78458,)"
      ]
     },
     "execution_count": 158,
     "metadata": {},
     "output_type": "execute_result"
    }
   ],
   "source": [
    "y.shape"
   ]
  },
  {
   "cell_type": "code",
   "execution_count": 77,
   "metadata": {},
   "outputs": [
    {
     "data": {
      "text/plain": [
       "0     14017\n",
       "1      1918\n",
       "2      9668\n",
       "3    113036\n",
       "4    110024\n",
       "Name: Views, dtype: int32"
      ]
     },
     "execution_count": 77,
     "metadata": {},
     "output_type": "execute_result"
    }
   ],
   "source": [
    "y.head()"
   ]
  },
  {
   "cell_type": "markdown",
   "metadata": {},
   "source": [
    "## Scaled X "
   ]
  },
  {
   "cell_type": "code",
   "execution_count": 34,
   "metadata": {},
   "outputs": [],
   "source": [
    "from sklearn.preprocessing import StandardScaler,MinMaxScaler"
   ]
  },
  {
   "cell_type": "code",
   "execution_count": 78,
   "metadata": {},
   "outputs": [],
   "source": [
    "std=StandardScaler()"
   ]
  },
  {
   "cell_type": "code",
   "execution_count": 79,
   "metadata": {},
   "outputs": [],
   "source": [
    "mima=MinMaxScaler()"
   ]
  },
  {
   "cell_type": "code",
   "execution_count": 80,
   "metadata": {},
   "outputs": [],
   "source": [
    "scaled_X=std.fit_transform(X)"
   ]
  },
  {
   "cell_type": "code",
   "execution_count": 81,
   "metadata": {},
   "outputs": [
    {
     "data": {
      "text/plain": [
       "array([[-0.15355976, -0.30750745, -0.15769982, ..., -0.02648592,\n",
       "        -0.23177912, -0.2334534 ],\n",
       "       [-0.13561908, -0.40803029, -0.16622674, ..., -0.02648592,\n",
       "        -0.23177912, -0.2334534 ],\n",
       "       [-0.14389939, -0.39081705, -0.16124323, ..., -0.02648592,\n",
       "        -0.23177912, -0.2334534 ],\n",
       "       ...,\n",
       "       [-0.15769991,  0.79126846, -0.16418028, ..., -0.02648592,\n",
       "        -0.23177912, -0.2334534 ],\n",
       "       [-0.12595871, -0.28680739, -0.16012526, ..., -0.02648592,\n",
       "        -0.23177912, -0.2334534 ],\n",
       "       [-0.15355976, -0.33359997, -0.13249804, ..., -0.02648592,\n",
       "        -0.23177912, -0.2334534 ]])"
      ]
     },
     "execution_count": 81,
     "metadata": {},
     "output_type": "execute_result"
    }
   ],
   "source": [
    "scaled_X"
   ]
  },
  {
   "cell_type": "code",
   "execution_count": 82,
   "metadata": {},
   "outputs": [],
   "source": [
    "minmax_X=mima.fit_transform(X)"
   ]
  },
  {
   "cell_type": "code",
   "execution_count": 311,
   "metadata": {},
   "outputs": [
    {
     "data": {
      "text/plain": [
       "array([[3.84312369e-05, 1.22137614e-02, 1.80144404e-04, ...,\n",
       "        0.00000000e+00, 0.00000000e+00, 0.00000000e+00],\n",
       "       [1.63332757e-04, 2.18610004e-04, 1.76895307e-05, ...,\n",
       "        0.00000000e+00, 0.00000000e+00, 0.00000000e+00],\n",
       "       [1.05685902e-04, 2.27262465e-03, 1.12635379e-04, ...,\n",
       "        0.00000000e+00, 0.00000000e+00, 0.00000000e+00],\n",
       "       ...,\n",
       "       [9.60780923e-06, 1.43328074e-01, 5.66787004e-05, ...,\n",
       "        0.00000000e+00, 0.00000000e+00, 0.00000000e+00],\n",
       "       [2.30587421e-04, 1.46838501e-02, 1.33935018e-04, ...,\n",
       "        0.00000000e+00, 0.00000000e+00, 0.00000000e+00],\n",
       "       [3.84312369e-05, 9.10020327e-03, 6.60288809e-04, ...,\n",
       "        0.00000000e+00, 0.00000000e+00, 0.00000000e+00]])"
      ]
     },
     "execution_count": 311,
     "metadata": {},
     "output_type": "execute_result"
    }
   ],
   "source": [
    "minmax_X"
   ]
  },
  {
   "cell_type": "markdown",
   "metadata": {},
   "source": [
    "## Train and Test"
   ]
  },
  {
   "cell_type": "code",
   "execution_count": 159,
   "metadata": {},
   "outputs": [],
   "source": [
    "test_x=test_new.drop(columns={\"Views\",\"Unique_ID\"})"
   ]
  },
  {
   "cell_type": "markdown",
   "metadata": {},
   "source": [
    "## PCA"
   ]
  },
  {
   "cell_type": "code",
   "execution_count": 40,
   "metadata": {},
   "outputs": [],
   "source": [
    "from sklearn.decomposition import PCA"
   ]
  },
  {
   "cell_type": "code",
   "execution_count": 84,
   "metadata": {},
   "outputs": [],
   "source": [
    "pca=PCA()"
   ]
  },
  {
   "cell_type": "code",
   "execution_count": 85,
   "metadata": {},
   "outputs": [
    {
     "data": {
      "text/plain": [
       "PCA(copy=True, iterated_power='auto', n_components=None, random_state=None,\n",
       "    svd_solver='auto', tol=0.0, whiten=False)"
      ]
     },
     "execution_count": 85,
     "metadata": {},
     "output_type": "execute_result"
    }
   ],
   "source": [
    "pca.fit(scaled_X)"
   ]
  },
  {
   "cell_type": "code",
   "execution_count": 86,
   "metadata": {},
   "outputs": [],
   "source": [
    "x_pca=pca.transform(scaled_X)"
   ]
  },
  {
   "cell_type": "code",
   "execution_count": 87,
   "metadata": {},
   "outputs": [
    {
     "data": {
      "text/plain": [
       "(78458, 25)"
      ]
     },
     "execution_count": 87,
     "metadata": {},
     "output_type": "execute_result"
    }
   ],
   "source": [
    "x_pca.shape"
   ]
  },
  {
   "cell_type": "code",
   "execution_count": 88,
   "metadata": {},
   "outputs": [
    {
     "data": {
      "text/plain": [
       "(78458, 25)"
      ]
     },
     "execution_count": 88,
     "metadata": {},
     "output_type": "execute_result"
    }
   ],
   "source": [
    "X.shape"
   ]
  },
  {
   "cell_type": "code",
   "execution_count": null,
   "metadata": {},
   "outputs": [],
   "source": []
  },
  {
   "cell_type": "code",
   "execution_count": null,
   "metadata": {},
   "outputs": [],
   "source": []
  },
  {
   "cell_type": "markdown",
   "metadata": {},
   "source": [
    "## LinearRegression"
   ]
  },
  {
   "cell_type": "code",
   "execution_count": 51,
   "metadata": {},
   "outputs": [],
   "source": [
    "from sklearn.linear_model import LinearRegression"
   ]
  },
  {
   "cell_type": "code",
   "execution_count": 52,
   "metadata": {},
   "outputs": [],
   "source": [
    "lin=LinearRegression()"
   ]
  },
  {
   "cell_type": "code",
   "execution_count": 89,
   "metadata": {},
   "outputs": [
    {
     "data": {
      "text/plain": [
       "LinearRegression(copy_X=True, fit_intercept=True, n_jobs=None, normalize=False)"
      ]
     },
     "execution_count": 89,
     "metadata": {},
     "output_type": "execute_result"
    }
   ],
   "source": [
    "lin.fit(X,y)"
   ]
  },
  {
   "cell_type": "code",
   "execution_count": 90,
   "metadata": {},
   "outputs": [],
   "source": [
    "test_pred=lin.predict(test_x)"
   ]
  },
  {
   "cell_type": "code",
   "execution_count": 91,
   "metadata": {},
   "outputs": [
    {
     "data": {
      "text/plain": [
       "array([220781.02053398, -33373.51567226, -52344.3327485 , ...,\n",
       "       -86221.26260053, 184882.56990038, -40816.29195765])"
      ]
     },
     "execution_count": 91,
     "metadata": {},
     "output_type": "execute_result"
    }
   ],
   "source": [
    "test_pred"
   ]
  },
  {
   "cell_type": "code",
   "execution_count": 92,
   "metadata": {},
   "outputs": [],
   "source": [
    "test_pred=pd.DataFrame(test_pred,columns=[\"Views\"],dtype=int)"
   ]
  },
  {
   "cell_type": "code",
   "execution_count": 93,
   "metadata": {},
   "outputs": [],
   "source": [
    "lin_result=pd.concat([test_new[\"Unique_ID\"],test_pred],axis=1)"
   ]
  },
  {
   "cell_type": "code",
   "execution_count": 94,
   "metadata": {},
   "outputs": [
    {
     "data": {
      "text/html": [
       "<div>\n",
       "<style scoped>\n",
       "    .dataframe tbody tr th:only-of-type {\n",
       "        vertical-align: middle;\n",
       "    }\n",
       "\n",
       "    .dataframe tbody tr th {\n",
       "        vertical-align: top;\n",
       "    }\n",
       "\n",
       "    .dataframe thead th {\n",
       "        text-align: right;\n",
       "    }\n",
       "</style>\n",
       "<table border=\"1\" class=\"dataframe\">\n",
       "  <thead>\n",
       "    <tr style=\"text-align: right;\">\n",
       "      <th></th>\n",
       "      <th>Unique_ID</th>\n",
       "      <th>Views</th>\n",
       "    </tr>\n",
       "  </thead>\n",
       "  <tbody>\n",
       "    <tr>\n",
       "      <th>0</th>\n",
       "      <td>562546</td>\n",
       "      <td>220781</td>\n",
       "    </tr>\n",
       "    <tr>\n",
       "      <th>1</th>\n",
       "      <td>907584</td>\n",
       "      <td>-33373</td>\n",
       "    </tr>\n",
       "    <tr>\n",
       "      <th>2</th>\n",
       "      <td>213013</td>\n",
       "      <td>-52344</td>\n",
       "    </tr>\n",
       "    <tr>\n",
       "      <th>3</th>\n",
       "      <td>340312</td>\n",
       "      <td>-157333</td>\n",
       "    </tr>\n",
       "    <tr>\n",
       "      <th>4</th>\n",
       "      <td>41854</td>\n",
       "      <td>3874</td>\n",
       "    </tr>\n",
       "  </tbody>\n",
       "</table>\n",
       "</div>"
      ],
      "text/plain": [
       "   Unique_ID   Views\n",
       "0     562546  220781\n",
       "1     907584  -33373\n",
       "2     213013  -52344\n",
       "3     340312 -157333\n",
       "4      41854    3874"
      ]
     },
     "execution_count": 94,
     "metadata": {},
     "output_type": "execute_result"
    }
   ],
   "source": [
    "lin_result.head()"
   ]
  },
  {
   "cell_type": "code",
   "execution_count": 327,
   "metadata": {},
   "outputs": [],
   "source": [
    "lin_result.to_excel(\"Linear.xlsx\",index=False)"
   ]
  },
  {
   "cell_type": "markdown",
   "metadata": {},
   "source": [
    "## Function"
   ]
  },
  {
   "cell_type": "code",
   "execution_count": 59,
   "metadata": {},
   "outputs": [],
   "source": [
    "from sklearn.metrics import mean_squared_error"
   ]
  },
  {
   "cell_type": "code",
   "execution_count": 143,
   "metadata": {},
   "outputs": [],
   "source": [
    "def model_fit(model,X,y,test,file_name):\n",
    "    model.fit(X,y)\n",
    "    test_pred=model.predict(test_x)\n",
    "    test_pred_df=pd.DataFrame(test_pred,columns=[\"Views\"])\n",
    "    train_pred=model.predict(X)\n",
    "    print(\"Train RMSE:\",np.sqrt(mean_squared_error(y,train_pred)))\n",
    "    result=pd.concat([test_new[\"Unique_ID\"],test_pred_df],axis=1)\n",
    "    result.to_excel(file_name,index=False)"
   ]
  },
  {
   "cell_type": "code",
   "execution_count": 96,
   "metadata": {},
   "outputs": [
    {
     "name": "stdout",
     "output_type": "stream",
     "text": [
      "Train RMSE: 725916.787880679\n"
     ]
    }
   ],
   "source": [
    "model_fit(lin,X,y,test_x,\"Linear1.xlsx\")"
   ]
  },
  {
   "cell_type": "markdown",
   "metadata": {},
   "source": [
    "## Polynomial"
   ]
  },
  {
   "cell_type": "code",
   "execution_count": 351,
   "metadata": {},
   "outputs": [],
   "source": [
    "from sklearn.preprocessing import PolynomialFeatures\n",
    "poly_reg = PolynomialFeatures(degree=2)\n",
    "X_poly = poly_reg.fit_transform(X)\n",
    "pol_reg = LinearRegression()\n",
    "test_x_poly = poly_reg.fit_transform(test_x)"
   ]
  },
  {
   "cell_type": "code",
   "execution_count": null,
   "metadata": {},
   "outputs": [],
   "source": [
    "## Lasso"
   ]
  },
  {
   "cell_type": "code",
   "execution_count": 97,
   "metadata": {},
   "outputs": [],
   "source": [
    "from sklearn.linear_model import Lasso"
   ]
  },
  {
   "cell_type": "code",
   "execution_count": 100,
   "metadata": {},
   "outputs": [],
   "source": [
    "las=Lasso(alpha=0.010,normalize=True)"
   ]
  },
  {
   "cell_type": "code",
   "execution_count": 101,
   "metadata": {},
   "outputs": [
    {
     "name": "stdout",
     "output_type": "stream",
     "text": [
      "Train RMSE: 725916.7880816554\n"
     ]
    }
   ],
   "source": [
    "model_fit(las,X,y,test_x,\"Lasso.xlsx\")"
   ]
  },
  {
   "cell_type": "code",
   "execution_count": 102,
   "metadata": {},
   "outputs": [],
   "source": [
    "from sklearn.ensemble import AdaBoostRegressor"
   ]
  },
  {
   "cell_type": "code",
   "execution_count": 103,
   "metadata": {},
   "outputs": [],
   "source": [
    "ada=AdaBoostRegressor()"
   ]
  },
  {
   "cell_type": "code",
   "execution_count": 105,
   "metadata": {},
   "outputs": [
    {
     "name": "stdout",
     "output_type": "stream",
     "text": [
      "Train RMSE: 1123082.132332543\n"
     ]
    }
   ],
   "source": [
    "model_fit(ada,X,y,test_x,\"AdaBoost\")"
   ]
  },
  {
   "cell_type": "code",
   "execution_count": 106,
   "metadata": {},
   "outputs": [],
   "source": [
    "from sklearn.ensemble import RandomForestRegressor"
   ]
  },
  {
   "cell_type": "code",
   "execution_count": 141,
   "metadata": {},
   "outputs": [],
   "source": [
    "rfc=RandomForestRegressor(max_depth=13)"
   ]
  },
  {
   "cell_type": "code",
   "execution_count": 160,
   "metadata": {},
   "outputs": [
    {
     "name": "stdout",
     "output_type": "stream",
     "text": [
      "Train RMSE: 326502.20807988447\n"
     ]
    }
   ],
   "source": [
    "model_fit(rfc,X,y,test_x,\"RFC2_MD_15.xlsx\")"
   ]
  },
  {
   "cell_type": "code",
   "execution_count": null,
   "metadata": {},
   "outputs": [],
   "source": []
  },
  {
   "cell_type": "code",
   "execution_count": null,
   "metadata": {},
   "outputs": [],
   "source": []
  },
  {
   "cell_type": "code",
   "execution_count": null,
   "metadata": {},
   "outputs": [],
   "source": []
  },
  {
   "cell_type": "code",
   "execution_count": null,
   "metadata": {},
   "outputs": [],
   "source": []
  },
  {
   "cell_type": "code",
   "execution_count": null,
   "metadata": {},
   "outputs": [],
   "source": []
  },
  {
   "cell_type": "code",
   "execution_count": null,
   "metadata": {},
   "outputs": [],
   "source": []
  },
  {
   "cell_type": "code",
   "execution_count": null,
   "metadata": {},
   "outputs": [],
   "source": []
  },
  {
   "cell_type": "code",
   "execution_count": null,
   "metadata": {},
   "outputs": [],
   "source": []
  },
  {
   "cell_type": "code",
   "execution_count": null,
   "metadata": {},
   "outputs": [],
   "source": []
  },
  {
   "cell_type": "code",
   "execution_count": null,
   "metadata": {},
   "outputs": [],
   "source": []
  },
  {
   "cell_type": "code",
   "execution_count": null,
   "metadata": {},
   "outputs": [],
   "source": []
  },
  {
   "cell_type": "markdown",
   "metadata": {},
   "source": [
    "# Model"
   ]
  },
  {
   "cell_type": "code",
   "execution_count": 174,
   "metadata": {},
   "outputs": [],
   "source": [
    "from sklearn.metrics import mean_squared_error"
   ]
  },
  {
   "cell_type": "code",
   "execution_count": 241,
   "metadata": {},
   "outputs": [],
   "source": [
    "def model_sel(model,X,y):\n",
    "    train_x,test_x,train_y,test_y=train_test_split(X, y, test_size=0.3,random_state=99)\n",
    "    model.fit(train_x,train_y)\n",
    "    train_pred=model.predict(train_x)\n",
    "    test_pred=model.predict(test_x)\n",
    "    print(\"Train_RMSE: \",np.sqrt(mean_squared_error(train_y,train_pred)))\n",
    "    print(\"Test_RMSE: \",np.sqrt(mean_squared_error(test_y,test_pred)))"
   ]
  },
  {
   "cell_type": "markdown",
   "metadata": {},
   "source": [
    "## Linear Regression"
   ]
  },
  {
   "cell_type": "code",
   "execution_count": 176,
   "metadata": {},
   "outputs": [],
   "source": [
    "from sklearn.linear_model import LinearRegression"
   ]
  },
  {
   "cell_type": "code",
   "execution_count": 177,
   "metadata": {},
   "outputs": [],
   "source": [
    "lin=LinearRegression()"
   ]
  },
  {
   "cell_type": "code",
   "execution_count": 249,
   "metadata": {},
   "outputs": [
    {
     "name": "stdout",
     "output_type": "stream",
     "text": [
      "Train_RMSE:  2.7755876442846303e-09\n",
      "Test_RMSE:  2.444688640215741e-09\n"
     ]
    }
   ],
   "source": [
    "model_sel(lin,X,y)"
   ]
  },
  {
   "cell_type": "code",
   "execution_count": 244,
   "metadata": {},
   "outputs": [
    {
     "name": "stdout",
     "output_type": "stream",
     "text": [
      "Train_RMSE:  736077.1278383918\n",
      "Test_RMSE:  707942.9748532185\n"
     ]
    }
   ],
   "source": [
    "model_sel(lin,minmax_X,y)"
   ]
  },
  {
   "cell_type": "code",
   "execution_count": 181,
   "metadata": {},
   "outputs": [
    {
     "name": "stdout",
     "output_type": "stream",
     "text": [
      "Train_RMSE:  736025.7960104799\n",
      "Test_RMSE:  707888.706447875\n"
     ]
    }
   ],
   "source": [
    "model_sel(lin,scaled_X,y)"
   ]
  },
  {
   "cell_type": "markdown",
   "metadata": {},
   "source": [
    "## Polynomial"
   ]
  },
  {
   "cell_type": "code",
   "execution_count": 229,
   "metadata": {},
   "outputs": [],
   "source": [
    "from sklearn.preprocessing import PolynomialFeatures"
   ]
  },
  {
   "cell_type": "code",
   "execution_count": 233,
   "metadata": {},
   "outputs": [],
   "source": [
    "from sklearn.preprocessing import PolynomialFeatures\n",
    "poly_reg = PolynomialFeatures(degree=2)\n",
    "X_poly = poly_reg.fit_transform(X)\n",
    "pol_reg = LinearRegression()\n",
    "test_X_poly = poly_reg.fit_transform(test_x)"
   ]
  },
  {
   "cell_type": "code",
   "execution_count": 236,
   "metadata": {},
   "outputs": [
    {
     "ename": "ValueError",
     "evalue": "y_true and y_pred have different number of output (27!=406)",
     "output_type": "error",
     "traceback": [
      "\u001b[1;31m---------------------------------------------------------------------------\u001b[0m",
      "\u001b[1;31mValueError\u001b[0m                                Traceback (most recent call last)",
      "\u001b[1;32m<ipython-input-236-d3fbeabadef0>\u001b[0m in \u001b[0;36m<module>\u001b[1;34m\u001b[0m\n\u001b[1;32m----> 1\u001b[1;33m \u001b[0mprint\u001b[0m\u001b[1;33m(\u001b[0m\u001b[1;34m\"Train RMSE:\"\u001b[0m\u001b[1;33m,\u001b[0m\u001b[0mnp\u001b[0m\u001b[1;33m.\u001b[0m\u001b[0msqrt\u001b[0m\u001b[1;33m(\u001b[0m\u001b[0mmean_squared_error\u001b[0m\u001b[1;33m(\u001b[0m\u001b[0mtest_x\u001b[0m\u001b[1;33m,\u001b[0m\u001b[0mtest_X_poly\u001b[0m\u001b[1;33m)\u001b[0m\u001b[1;33m)\u001b[0m\u001b[1;33m)\u001b[0m\u001b[1;33m\u001b[0m\u001b[1;33m\u001b[0m\u001b[0m\n\u001b[0m",
      "\u001b[1;32m~\\Anaconda3\\lib\\site-packages\\sklearn\\metrics\\regression.py\u001b[0m in \u001b[0;36mmean_squared_error\u001b[1;34m(y_true, y_pred, sample_weight, multioutput)\u001b[0m\n\u001b[0;32m    239\u001b[0m     \"\"\"\n\u001b[0;32m    240\u001b[0m     y_type, y_true, y_pred, multioutput = _check_reg_targets(\n\u001b[1;32m--> 241\u001b[1;33m         y_true, y_pred, multioutput)\n\u001b[0m\u001b[0;32m    242\u001b[0m     \u001b[0mcheck_consistent_length\u001b[0m\u001b[1;33m(\u001b[0m\u001b[0my_true\u001b[0m\u001b[1;33m,\u001b[0m \u001b[0my_pred\u001b[0m\u001b[1;33m,\u001b[0m \u001b[0msample_weight\u001b[0m\u001b[1;33m)\u001b[0m\u001b[1;33m\u001b[0m\u001b[1;33m\u001b[0m\u001b[0m\n\u001b[0;32m    243\u001b[0m     output_errors = np.average((y_true - y_pred) ** 2, axis=0,\n",
      "\u001b[1;32m~\\Anaconda3\\lib\\site-packages\\sklearn\\metrics\\regression.py\u001b[0m in \u001b[0;36m_check_reg_targets\u001b[1;34m(y_true, y_pred, multioutput)\u001b[0m\n\u001b[0;32m     87\u001b[0m     \u001b[1;32mif\u001b[0m \u001b[0my_true\u001b[0m\u001b[1;33m.\u001b[0m\u001b[0mshape\u001b[0m\u001b[1;33m[\u001b[0m\u001b[1;36m1\u001b[0m\u001b[1;33m]\u001b[0m \u001b[1;33m!=\u001b[0m \u001b[0my_pred\u001b[0m\u001b[1;33m.\u001b[0m\u001b[0mshape\u001b[0m\u001b[1;33m[\u001b[0m\u001b[1;36m1\u001b[0m\u001b[1;33m]\u001b[0m\u001b[1;33m:\u001b[0m\u001b[1;33m\u001b[0m\u001b[1;33m\u001b[0m\u001b[0m\n\u001b[0;32m     88\u001b[0m         raise ValueError(\"y_true and y_pred have different number of output \"\n\u001b[1;32m---> 89\u001b[1;33m                          \"({0}!={1})\".format(y_true.shape[1], y_pred.shape[1]))\n\u001b[0m\u001b[0;32m     90\u001b[0m \u001b[1;33m\u001b[0m\u001b[0m\n\u001b[0;32m     91\u001b[0m     \u001b[0mn_outputs\u001b[0m \u001b[1;33m=\u001b[0m \u001b[0my_true\u001b[0m\u001b[1;33m.\u001b[0m\u001b[0mshape\u001b[0m\u001b[1;33m[\u001b[0m\u001b[1;36m1\u001b[0m\u001b[1;33m]\u001b[0m\u001b[1;33m\u001b[0m\u001b[1;33m\u001b[0m\u001b[0m\n",
      "\u001b[1;31mValueError\u001b[0m: y_true and y_pred have different number of output (27!=406)"
     ]
    }
   ],
   "source": [
    "print(\"Train RMSE:\",np.sqrt(mean_squared_error(test_x,test_X_poly)))"
   ]
  },
  {
   "cell_type": "code",
   "execution_count": null,
   "metadata": {},
   "outputs": [],
   "source": []
  },
  {
   "cell_type": "code",
   "execution_count": null,
   "metadata": {},
   "outputs": [],
   "source": []
  },
  {
   "cell_type": "markdown",
   "metadata": {},
   "source": [
    "## Lasso"
   ]
  },
  {
   "cell_type": "code",
   "execution_count": 222,
   "metadata": {},
   "outputs": [],
   "source": [
    "from sklearn.linear_model import Lasso"
   ]
  },
  {
   "cell_type": "code",
   "execution_count": 225,
   "metadata": {},
   "outputs": [],
   "source": [
    "las=Lasso(alpha=10)"
   ]
  },
  {
   "cell_type": "code",
   "execution_count": 245,
   "metadata": {},
   "outputs": [
    {
     "name": "stdout",
     "output_type": "stream",
     "text": [
      "Train_RMSE:  0.33885196627794406\n",
      "Test_RMSE:  0.3352183055809474\n"
     ]
    }
   ],
   "source": [
    "model_sel(las,X,y)"
   ]
  },
  {
   "cell_type": "code",
   "execution_count": 227,
   "metadata": {},
   "outputs": [],
   "source": [
    "result=pd.read_excel(\"Sample_Submission.xlsx\")"
   ]
  },
  {
   "cell_type": "code",
   "execution_count": 228,
   "metadata": {},
   "outputs": [
    {
     "data": {
      "text/html": [
       "<div>\n",
       "<style scoped>\n",
       "    .dataframe tbody tr th:only-of-type {\n",
       "        vertical-align: middle;\n",
       "    }\n",
       "\n",
       "    .dataframe tbody tr th {\n",
       "        vertical-align: top;\n",
       "    }\n",
       "\n",
       "    .dataframe thead th {\n",
       "        text-align: right;\n",
       "    }\n",
       "</style>\n",
       "<table border=\"1\" class=\"dataframe\">\n",
       "  <thead>\n",
       "    <tr style=\"text-align: right;\">\n",
       "      <th></th>\n",
       "      <th>Unique_ID</th>\n",
       "      <th>Views</th>\n",
       "    </tr>\n",
       "  </thead>\n",
       "  <tbody>\n",
       "    <tr>\n",
       "      <th>0</th>\n",
       "      <td>562546</td>\n",
       "      <td>7</td>\n",
       "    </tr>\n",
       "    <tr>\n",
       "      <th>1</th>\n",
       "      <td>907584</td>\n",
       "      <td>98</td>\n",
       "    </tr>\n",
       "    <tr>\n",
       "      <th>2</th>\n",
       "      <td>213013</td>\n",
       "      <td>31</td>\n",
       "    </tr>\n",
       "    <tr>\n",
       "      <th>3</th>\n",
       "      <td>340312</td>\n",
       "      <td>51</td>\n",
       "    </tr>\n",
       "    <tr>\n",
       "      <th>4</th>\n",
       "      <td>41854</td>\n",
       "      <td>85</td>\n",
       "    </tr>\n",
       "    <tr>\n",
       "      <th>5</th>\n",
       "      <td>1031846</td>\n",
       "      <td>66</td>\n",
       "    </tr>\n",
       "    <tr>\n",
       "      <th>6</th>\n",
       "      <td>627446</td>\n",
       "      <td>53</td>\n",
       "    </tr>\n",
       "    <tr>\n",
       "      <th>7</th>\n",
       "      <td>1509777</td>\n",
       "      <td>37</td>\n",
       "    </tr>\n",
       "    <tr>\n",
       "      <th>8</th>\n",
       "      <td>1270147</td>\n",
       "      <td>53</td>\n",
       "    </tr>\n",
       "    <tr>\n",
       "      <th>9</th>\n",
       "      <td>1486926</td>\n",
       "      <td>45</td>\n",
       "    </tr>\n",
       "    <tr>\n",
       "      <th>10</th>\n",
       "      <td>1531251</td>\n",
       "      <td>95</td>\n",
       "    </tr>\n",
       "    <tr>\n",
       "      <th>11</th>\n",
       "      <td>815124</td>\n",
       "      <td>25</td>\n",
       "    </tr>\n",
       "    <tr>\n",
       "      <th>12</th>\n",
       "      <td>249451</td>\n",
       "      <td>43</td>\n",
       "    </tr>\n",
       "    <tr>\n",
       "      <th>13</th>\n",
       "      <td>175341</td>\n",
       "      <td>46</td>\n",
       "    </tr>\n",
       "    <tr>\n",
       "      <th>14</th>\n",
       "      <td>414494</td>\n",
       "      <td>7</td>\n",
       "    </tr>\n",
       "    <tr>\n",
       "      <th>15</th>\n",
       "      <td>1359461</td>\n",
       "      <td>61</td>\n",
       "    </tr>\n",
       "    <tr>\n",
       "      <th>16</th>\n",
       "      <td>915524</td>\n",
       "      <td>99</td>\n",
       "    </tr>\n",
       "    <tr>\n",
       "      <th>17</th>\n",
       "      <td>564000</td>\n",
       "      <td>73</td>\n",
       "    </tr>\n",
       "    <tr>\n",
       "      <th>18</th>\n",
       "      <td>502883</td>\n",
       "      <td>36</td>\n",
       "    </tr>\n",
       "    <tr>\n",
       "      <th>19</th>\n",
       "      <td>463894</td>\n",
       "      <td>14</td>\n",
       "    </tr>\n",
       "    <tr>\n",
       "      <th>20</th>\n",
       "      <td>1322104</td>\n",
       "      <td>59</td>\n",
       "    </tr>\n",
       "    <tr>\n",
       "      <th>21</th>\n",
       "      <td>1275829</td>\n",
       "      <td>96</td>\n",
       "    </tr>\n",
       "    <tr>\n",
       "      <th>22</th>\n",
       "      <td>702263</td>\n",
       "      <td>60</td>\n",
       "    </tr>\n",
       "    <tr>\n",
       "      <th>23</th>\n",
       "      <td>429960</td>\n",
       "      <td>68</td>\n",
       "    </tr>\n",
       "    <tr>\n",
       "      <th>24</th>\n",
       "      <td>510431</td>\n",
       "      <td>75</td>\n",
       "    </tr>\n",
       "    <tr>\n",
       "      <th>25</th>\n",
       "      <td>1510154</td>\n",
       "      <td>74</td>\n",
       "    </tr>\n",
       "    <tr>\n",
       "      <th>26</th>\n",
       "      <td>1418308</td>\n",
       "      <td>99</td>\n",
       "    </tr>\n",
       "    <tr>\n",
       "      <th>27</th>\n",
       "      <td>1486991</td>\n",
       "      <td>33</td>\n",
       "    </tr>\n",
       "    <tr>\n",
       "      <th>28</th>\n",
       "      <td>597052</td>\n",
       "      <td>73</td>\n",
       "    </tr>\n",
       "    <tr>\n",
       "      <th>29</th>\n",
       "      <td>1243523</td>\n",
       "      <td>30</td>\n",
       "    </tr>\n",
       "    <tr>\n",
       "      <th>...</th>\n",
       "      <td>...</td>\n",
       "      <td>...</td>\n",
       "    </tr>\n",
       "    <tr>\n",
       "      <th>19585</th>\n",
       "      <td>378006</td>\n",
       "      <td>98</td>\n",
       "    </tr>\n",
       "    <tr>\n",
       "      <th>19586</th>\n",
       "      <td>407662</td>\n",
       "      <td>55</td>\n",
       "    </tr>\n",
       "    <tr>\n",
       "      <th>19587</th>\n",
       "      <td>65951</td>\n",
       "      <td>44</td>\n",
       "    </tr>\n",
       "    <tr>\n",
       "      <th>19588</th>\n",
       "      <td>815471</td>\n",
       "      <td>53</td>\n",
       "    </tr>\n",
       "    <tr>\n",
       "      <th>19589</th>\n",
       "      <td>624213</td>\n",
       "      <td>66</td>\n",
       "    </tr>\n",
       "    <tr>\n",
       "      <th>19590</th>\n",
       "      <td>899686</td>\n",
       "      <td>42</td>\n",
       "    </tr>\n",
       "    <tr>\n",
       "      <th>19591</th>\n",
       "      <td>175422</td>\n",
       "      <td>21</td>\n",
       "    </tr>\n",
       "    <tr>\n",
       "      <th>19592</th>\n",
       "      <td>539582</td>\n",
       "      <td>64</td>\n",
       "    </tr>\n",
       "    <tr>\n",
       "      <th>19593</th>\n",
       "      <td>1212003</td>\n",
       "      <td>97</td>\n",
       "    </tr>\n",
       "    <tr>\n",
       "      <th>19594</th>\n",
       "      <td>1558764</td>\n",
       "      <td>87</td>\n",
       "    </tr>\n",
       "    <tr>\n",
       "      <th>19595</th>\n",
       "      <td>375753</td>\n",
       "      <td>71</td>\n",
       "    </tr>\n",
       "    <tr>\n",
       "      <th>19596</th>\n",
       "      <td>1120485</td>\n",
       "      <td>84</td>\n",
       "    </tr>\n",
       "    <tr>\n",
       "      <th>19597</th>\n",
       "      <td>212725</td>\n",
       "      <td>80</td>\n",
       "    </tr>\n",
       "    <tr>\n",
       "      <th>19598</th>\n",
       "      <td>172393</td>\n",
       "      <td>96</td>\n",
       "    </tr>\n",
       "    <tr>\n",
       "      <th>19599</th>\n",
       "      <td>414322</td>\n",
       "      <td>68</td>\n",
       "    </tr>\n",
       "    <tr>\n",
       "      <th>19600</th>\n",
       "      <td>704293</td>\n",
       "      <td>34</td>\n",
       "    </tr>\n",
       "    <tr>\n",
       "      <th>19601</th>\n",
       "      <td>1073291</td>\n",
       "      <td>18</td>\n",
       "    </tr>\n",
       "    <tr>\n",
       "      <th>19602</th>\n",
       "      <td>1233240</td>\n",
       "      <td>96</td>\n",
       "    </tr>\n",
       "    <tr>\n",
       "      <th>19603</th>\n",
       "      <td>539762</td>\n",
       "      <td>94</td>\n",
       "    </tr>\n",
       "    <tr>\n",
       "      <th>19604</th>\n",
       "      <td>84340</td>\n",
       "      <td>10</td>\n",
       "    </tr>\n",
       "    <tr>\n",
       "      <th>19605</th>\n",
       "      <td>1251032</td>\n",
       "      <td>19</td>\n",
       "    </tr>\n",
       "    <tr>\n",
       "      <th>19606</th>\n",
       "      <td>971579</td>\n",
       "      <td>63</td>\n",
       "    </tr>\n",
       "    <tr>\n",
       "      <th>19607</th>\n",
       "      <td>386716</td>\n",
       "      <td>24</td>\n",
       "    </tr>\n",
       "    <tr>\n",
       "      <th>19608</th>\n",
       "      <td>982417</td>\n",
       "      <td>26</td>\n",
       "    </tr>\n",
       "    <tr>\n",
       "      <th>19609</th>\n",
       "      <td>355163</td>\n",
       "      <td>69</td>\n",
       "    </tr>\n",
       "    <tr>\n",
       "      <th>19610</th>\n",
       "      <td>183403</td>\n",
       "      <td>96</td>\n",
       "    </tr>\n",
       "    <tr>\n",
       "      <th>19611</th>\n",
       "      <td>1272578</td>\n",
       "      <td>74</td>\n",
       "    </tr>\n",
       "    <tr>\n",
       "      <th>19612</th>\n",
       "      <td>539454</td>\n",
       "      <td>93</td>\n",
       "    </tr>\n",
       "    <tr>\n",
       "      <th>19613</th>\n",
       "      <td>1543013</td>\n",
       "      <td>56</td>\n",
       "    </tr>\n",
       "    <tr>\n",
       "      <th>19614</th>\n",
       "      <td>415046</td>\n",
       "      <td>32</td>\n",
       "    </tr>\n",
       "  </tbody>\n",
       "</table>\n",
       "<p>19615 rows × 2 columns</p>\n",
       "</div>"
      ],
      "text/plain": [
       "       Unique_ID  Views\n",
       "0         562546      7\n",
       "1         907584     98\n",
       "2         213013     31\n",
       "3         340312     51\n",
       "4          41854     85\n",
       "5        1031846     66\n",
       "6         627446     53\n",
       "7        1509777     37\n",
       "8        1270147     53\n",
       "9        1486926     45\n",
       "10       1531251     95\n",
       "11        815124     25\n",
       "12        249451     43\n",
       "13        175341     46\n",
       "14        414494      7\n",
       "15       1359461     61\n",
       "16        915524     99\n",
       "17        564000     73\n",
       "18        502883     36\n",
       "19        463894     14\n",
       "20       1322104     59\n",
       "21       1275829     96\n",
       "22        702263     60\n",
       "23        429960     68\n",
       "24        510431     75\n",
       "25       1510154     74\n",
       "26       1418308     99\n",
       "27       1486991     33\n",
       "28        597052     73\n",
       "29       1243523     30\n",
       "...          ...    ...\n",
       "19585     378006     98\n",
       "19586     407662     55\n",
       "19587      65951     44\n",
       "19588     815471     53\n",
       "19589     624213     66\n",
       "19590     899686     42\n",
       "19591     175422     21\n",
       "19592     539582     64\n",
       "19593    1212003     97\n",
       "19594    1558764     87\n",
       "19595     375753     71\n",
       "19596    1120485     84\n",
       "19597     212725     80\n",
       "19598     172393     96\n",
       "19599     414322     68\n",
       "19600     704293     34\n",
       "19601    1073291     18\n",
       "19602    1233240     96\n",
       "19603     539762     94\n",
       "19604      84340     10\n",
       "19605    1251032     19\n",
       "19606     971579     63\n",
       "19607     386716     24\n",
       "19608     982417     26\n",
       "19609     355163     69\n",
       "19610     183403     96\n",
       "19611    1272578     74\n",
       "19612     539454     93\n",
       "19613    1543013     56\n",
       "19614     415046     32\n",
       "\n",
       "[19615 rows x 2 columns]"
      ]
     },
     "execution_count": 228,
     "metadata": {},
     "output_type": "execute_result"
    }
   ],
   "source": [
    "result"
   ]
  },
  {
   "cell_type": "markdown",
   "metadata": {},
   "source": [
    "## Decision Tree"
   ]
  },
  {
   "cell_type": "code",
   "execution_count": 205,
   "metadata": {},
   "outputs": [],
   "source": [
    "from sklearn.tree import DecisionTreeRegressor\n",
    "from sklearn.model_selection import GridSearchCV"
   ]
  },
  {
   "cell_type": "code",
   "execution_count": 183,
   "metadata": {},
   "outputs": [],
   "source": [
    "dt=DecisionTreeRegressor()"
   ]
  },
  {
   "cell_type": "code",
   "execution_count": 115,
   "metadata": {},
   "outputs": [
    {
     "ename": "NameError",
     "evalue": "name 'model_sel' is not defined",
     "output_type": "error",
     "traceback": [
      "\u001b[1;31m---------------------------------------------------------------------------\u001b[0m",
      "\u001b[1;31mNameError\u001b[0m                                 Traceback (most recent call last)",
      "\u001b[1;32m<ipython-input-115-51cc4cff698b>\u001b[0m in \u001b[0;36m<module>\u001b[1;34m\u001b[0m\n\u001b[1;32m----> 1\u001b[1;33m \u001b[0mmodel_sel\u001b[0m\u001b[1;33m(\u001b[0m\u001b[0mdt\u001b[0m\u001b[1;33m,\u001b[0m\u001b[0mX\u001b[0m\u001b[1;33m,\u001b[0m\u001b[0my\u001b[0m\u001b[1;33m)\u001b[0m\u001b[1;33m\u001b[0m\u001b[1;33m\u001b[0m\u001b[0m\n\u001b[0m",
      "\u001b[1;31mNameError\u001b[0m: name 'model_sel' is not defined"
     ]
    }
   ],
   "source": [
    "model_sel(dt,X,y)"
   ]
  },
  {
   "cell_type": "code",
   "execution_count": 185,
   "metadata": {},
   "outputs": [
    {
     "name": "stdout",
     "output_type": "stream",
     "text": [
      "Train_RMSE:  492.5584231176323\n",
      "Test_RMSE:  778031.016316195\n"
     ]
    }
   ],
   "source": [
    "model_sel(dt,scaled_X,y)"
   ]
  },
  {
   "cell_type": "code",
   "execution_count": 203,
   "metadata": {},
   "outputs": [],
   "source": [
    "dt=DecisionTreeRegressor(min_samples_split=25)"
   ]
  },
  {
   "cell_type": "code",
   "execution_count": 204,
   "metadata": {},
   "outputs": [
    {
     "name": "stdout",
     "output_type": "stream",
     "text": [
      "Train_RMSE:  840093.3379845384\n",
      "Test_RMSE:  867835.6740598293\n"
     ]
    }
   ],
   "source": [
    "model_sel(dt,X,y)"
   ]
  },
  {
   "cell_type": "code",
   "execution_count": 215,
   "metadata": {},
   "outputs": [],
   "source": [
    "param_grid=[{ 'min_samples_split': [30,35,40,45],\n",
    "   'max_depth' : [5,6,7,8,9,10]\n",
    "}]"
   ]
  },
  {
   "cell_type": "code",
   "execution_count": 216,
   "metadata": {},
   "outputs": [],
   "source": [
    "grid=GridSearchCV(dt,param_grid)"
   ]
  },
  {
   "cell_type": "code",
   "execution_count": 217,
   "metadata": {},
   "outputs": [
    {
     "name": "stdout",
     "output_type": "stream",
     "text": [
      "Train_RMSE:  907170.374639512\n",
      "Test_RMSE:  889794.4899103477\n"
     ]
    }
   ],
   "source": [
    "model_sel(grid,X,y)"
   ]
  },
  {
   "cell_type": "code",
   "execution_count": 218,
   "metadata": {},
   "outputs": [
    {
     "data": {
      "text/plain": [
       "GridSearchCV(cv='warn', error_score='raise-deprecating',\n",
       "             estimator=DecisionTreeRegressor(criterion='mse', max_depth=None,\n",
       "                                             max_features=None,\n",
       "                                             max_leaf_nodes=None,\n",
       "                                             min_impurity_decrease=0.0,\n",
       "                                             min_impurity_split=None,\n",
       "                                             min_samples_leaf=1,\n",
       "                                             min_samples_split=25,\n",
       "                                             min_weight_fraction_leaf=0.0,\n",
       "                                             presort=False, random_state=None,\n",
       "                                             splitter='best'),\n",
       "             iid='warn', n_jobs=None,\n",
       "             param_grid=[{'max_depth': [5, 6, 7, 8, 9, 10],\n",
       "                          'min_samples_split': [30, 35, 40, 45]}],\n",
       "             pre_dispatch='2*n_jobs', refit=True, return_train_score=False,\n",
       "             scoring=None, verbose=0)"
      ]
     },
     "execution_count": 218,
     "metadata": {},
     "output_type": "execute_result"
    }
   ],
   "source": [
    "grid.fit(train_x,train_y)"
   ]
  },
  {
   "cell_type": "code",
   "execution_count": 219,
   "metadata": {},
   "outputs": [
    {
     "data": {
      "text/plain": [
       "DecisionTreeRegressor(criterion='mse', max_depth=5, max_features=None,\n",
       "                      max_leaf_nodes=None, min_impurity_decrease=0.0,\n",
       "                      min_impurity_split=None, min_samples_leaf=1,\n",
       "                      min_samples_split=30, min_weight_fraction_leaf=0.0,\n",
       "                      presort=False, random_state=None, splitter='best')"
      ]
     },
     "execution_count": 219,
     "metadata": {},
     "output_type": "execute_result"
    }
   ],
   "source": [
    "grid.best_estimator_"
   ]
  },
  {
   "cell_type": "code",
   "execution_count": 220,
   "metadata": {},
   "outputs": [
    {
     "data": {
      "text/plain": [
       "{'max_depth': 5, 'min_samples_split': 30}"
      ]
     },
     "execution_count": 220,
     "metadata": {},
     "output_type": "execute_result"
    }
   ],
   "source": [
    "grid.best_params_"
   ]
  },
  {
   "cell_type": "code",
   "execution_count": 221,
   "metadata": {},
   "outputs": [
    {
     "data": {
      "text/plain": [
       "0.9025021331552966"
      ]
     },
     "execution_count": 221,
     "metadata": {},
     "output_type": "execute_result"
    }
   ],
   "source": [
    "grid.best_score_"
   ]
  },
  {
   "cell_type": "code",
   "execution_count": null,
   "metadata": {},
   "outputs": [],
   "source": []
  },
  {
   "cell_type": "code",
   "execution_count": null,
   "metadata": {},
   "outputs": [],
   "source": []
  }
 ],
 "metadata": {
  "kernelspec": {
   "display_name": "Python 3",
   "language": "python",
   "name": "python3"
  },
  "language_info": {
   "codemirror_mode": {
    "name": "ipython",
    "version": 3
   },
   "file_extension": ".py",
   "mimetype": "text/x-python",
   "name": "python",
   "nbconvert_exporter": "python",
   "pygments_lexer": "ipython3",
   "version": "3.7.3"
  }
 },
 "nbformat": 4,
 "nbformat_minor": 2
}
